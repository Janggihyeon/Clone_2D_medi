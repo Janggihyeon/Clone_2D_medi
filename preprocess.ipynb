{
 "cells": [
  {
   "cell_type": "code",
   "execution_count": 1,
   "metadata": {},
   "outputs": [],
   "source": [
    "import cv2\n",
    "import os\n",
    "import numpy as np\n",
    "import pandas as pd\n",
    "import requests\n",
    "from rembg import remove\n",
    "from tqdm import tqdm\n",
    "%matplotlib inline\n",
    "import matplotlib.pyplot as plt\n"
   ]
  },
  {
   "cell_type": "code",
   "execution_count": 93,
   "metadata": {},
   "outputs": [],
   "source": [
    "df = pd.read_csv('OpenData_PotOpenTabletIdntfcC20220601.csv')\n",
    "dir = 'image_bg_removed'"
   ]
  },
  {
   "cell_type": "code",
   "execution_count": 67,
   "metadata": {},
   "outputs": [],
   "source": [
    "def subimage(image, rect):\n",
    "    theta = rect[2]-90\n",
    "    center = (int(rect[0][0]),int(rect[0][1]))\n",
    "    height = int(rect[1][0])\n",
    "    width = int(rect[1][1])\n",
    "    theta *= 3.14159 / 180 # convert to rad\n",
    "    v_x = (np.cos(theta), np.sin(theta))\n",
    "    v_y = (-np.sin(theta), np.cos(theta))\n",
    "    s_x = center[0] - v_x[0] * ((width-1) / 2) - v_y[0] * ((height-1) / 2)\n",
    "    s_y = center[1] - v_x[1] * ((width-1) / 2) - v_y[1] * ((height-1) / 2)\n",
    "\n",
    "    mapping = np.array([[v_x[0],v_y[0], s_x],\n",
    "                        [v_x[1],v_y[1], s_y]])\n",
    "\n",
    "    return cv2.warpAffine(image,mapping,(width, height),flags=cv2.WARP_INVERSE_MAP,borderMode=cv2.BORDER_REPLICATE)"
   ]
  },
  {
   "cell_type": "code",
   "execution_count": 94,
   "metadata": {},
   "outputs": [],
   "source": [
    "success = os.listdir('image_normalized')"
   ]
  },
  {
   "cell_type": "code",
   "execution_count": 95,
   "metadata": {},
   "outputs": [
    {
     "name": "stderr",
     "output_type": "stream",
     "text": [
      "24372it [00:06, 3635.41it/s]\n"
     ]
    }
   ],
   "source": [
    "for i ,row in tqdm(df.iterrows()):\n",
    "        index = row['품목일련번호']\n",
    "        if str(index) +'.png' in success:\n",
    "                continue\n",
    "        img = cv2.imread(os.path.join('image_bg_removed',str(index) +'.png'))\n",
    "        imgray = cv2.cvtColor(img, cv2.COLOR_BGR2GRAY)\n",
    "        ret, th = cv2.threshold(imgray, 1,255,cv2.THRESH_BINARY)\n",
    "        contours, _ = cv2.findContours(th, cv2.RETR_EXTERNAL, cv2.CHAIN_APPROX_NONE)\n",
    "        pills = []\n",
    "        inds = []\n",
    "        counts = 0\n",
    "        for j,contr in enumerate(contours):\n",
    "                rect = cv2.boundingRect(contr)\n",
    "                if rect[3]*rect[2] > 1000:\n",
    "                        counts += 1\n",
    "                        inds.append(j)\n",
    "        if len(inds) == 2:\n",
    "                for ind in inds:\n",
    "                        if row['의약품제형'] == '원형':\n",
    "                                rect = cv2.boundingRect(contours[ind])\n",
    "                                rect = ((rect[0]+rect[3]//2,rect[1]+rect[2]//2),(rect[3],rect[2]),90)\n",
    "                        else:\n",
    "                                rect = cv2.minAreaRect(contours[ind])\n",
    "                        crop = subimage(img,rect)\n",
    "                        if crop.shape[0] > crop.shape[1]:\n",
    "                                crop = cv2.rotate(crop, cv2.ROTATE_90_CLOCKWISE)\n",
    "                        crop = cv2.resize(crop,(256,int(256*crop.shape[0]/crop.shape[1])))\n",
    "                        pills.append(crop)\n",
    "                normalized = np.zeros((512,512,3),dtype=np.uint8)\n",
    "                normalized[128-pills[0].shape[0]//2 : 128 +(pills[0].shape[0]-pills[0].shape[0]//2),128-pills[0].shape[1]//2 : 128 +(pills[0].shape[1]-pills[0].shape[1]//2)] = pills[0]\n",
    "                normalized[384-pills[1].shape[0]//2 : 384 +(pills[1].shape[0]-pills[1].shape[0]//2),384-pills[1].shape[1]//2 : 384 +(pills[1].shape[1]-pills[1].shape[1]//2)] = pills[1]\n",
    "                cv2.imwrite(os.path.join('success5',str(index) +'.png'),normalized)\n",
    "        else:\n",
    "                print(i)\n",
    "                cv2.imwrite(os.path.join('fail5',str(index) +'.png'),img)\n",
    "        "
   ]
  },
  {
   "cell_type": "code",
   "execution_count": null,
   "metadata": {},
   "outputs": [],
   "source": [
    "for i ,row in tqdm(df.iterrows()):\n",
    "        index = row['품목일련번호']\n",
    "        \n",
    "        img = cv2.imread(os.path.join('image_bg_removed',str(index) +'.png'))\n",
    "        imgray = cv2.cvtColor(img, cv2.COLOR_BGR2GRAY)\n",
    "        ret, th = cv2.threshold(imgray, 10,255,cv2.THRESH_BINARY)\n",
    "        contours, _ = cv2.findContours(th, cv2.RETR_EXTERNAL, cv2.CHAIN_APPROX_NONE)\n",
    "        pills = []\n",
    "        counts = 0\n",
    "        inds = []\n",
    "        for j,contr in enumerate(contours):\n",
    "                rect = cv2.boundingRect(contr)\n",
    "                if rect[3]*rect[2] > 1000:\n",
    "                        counts += 1\n",
    "                        inds.append(j)\n",
    "        if len(inds) == 2:\n",
    "                for ind in inds:\n",
    "                        if row['의약품제형'] == '원형':\n",
    "                                rect = cv2.boundingRect(contours[ind])\n",
    "                                rect = ((rect[0]+rect[3]//2,rect[1]+rect[2]//2),(rect[3],rect[2]),90)\n",
    "                        else:\n",
    "                                rect = cv2.minAreaRect(contr)\n",
    "                        crop = subimage(img,rect)\n",
    "                        if crop.shape[0] > crop.shape[1]:\n",
    "                                crop = cv2.rotate(crop, cv2.ROTATE_90_CLOCKWISE)\n",
    "                        crop = cv2.resize(crop,(256,int(256*crop.shape[0]/crop.shape[1])))\n",
    "                        pills.append(crop)\n",
    "                normalized = np.zeros((512,512,3),dtype=np.uint8)\n",
    "                normalized[128-pills[0].shape[0]//2 : 128 +(pills[0].shape[0]-pills[0].shape[0]//2),128-pills[0].shape[1]//2 : 128 +(pills[0].shape[1]-pills[0].shape[1]//2)] = pills[0]\n",
    "                normalized[384-pills[1].shape[0]//2 : 384 +(pills[1].shape[0]-pills[1].shape[0]//2),384-pills[1].shape[1]//2 : 384 +(pills[1].shape[1]-pills[1].shape[1]//2)] = pills[1]\n",
    "                cv2.imwrite(os.path.join('image_normalized',str(index) +'.png'),normalized)\n",
    "        else:\n",
    "                print(i)\n",
    "                cv2.imwrite(os.path.join('image_failed',str(index) +'.png'),img)"
   ]
  },
  {
   "cell_type": "code",
   "execution_count": 64,
   "metadata": {},
   "outputs": [
    {
     "name": "stderr",
     "output_type": "stream",
     "text": [
      "[ WARN:0@3083.398] global /io/opencv/modules/imgcodecs/src/loadsave.cpp (239) findDecoder imread_('fail4/199202070.png'): can't open/read file: check file path/integrity\n"
     ]
    },
    {
     "ename": "error",
     "evalue": "OpenCV(4.5.5) /io/opencv/modules/imgproc/src/color.cpp:182: error: (-215:Assertion failed) !_src.empty() in function 'cvtColor'\n",
     "output_type": "error",
     "traceback": [
      "\u001b[0;31m---------------------------------------------------------------------------\u001b[0m",
      "\u001b[0;31merror\u001b[0m                                     Traceback (most recent call last)",
      "\u001b[1;32m/opt/ml/final-project-level3-cv-16/preprocess.ipynb Cell 7'\u001b[0m in \u001b[0;36m<cell line: 1>\u001b[0;34m()\u001b[0m\n\u001b[0;32m----> <a href='vscode-notebook-cell://ssh-remote%2B101.101.209.53/opt/ml/final-project-level3-cv-16/preprocess.ipynb#ch0000003vscode-remote?line=0'>1</a>\u001b[0m img \u001b[39m=\u001b[39m cv2\u001b[39m.\u001b[39;49mcvtColor(cv2\u001b[39m.\u001b[39;49mimread(\u001b[39m'\u001b[39;49m\u001b[39mfail4/199202070.png\u001b[39;49m\u001b[39m'\u001b[39;49m),cv2\u001b[39m.\u001b[39;49mCOLOR_BGR2RGB)\n\u001b[1;32m      <a href='vscode-notebook-cell://ssh-remote%2B101.101.209.53/opt/ml/final-project-level3-cv-16/preprocess.ipynb#ch0000003vscode-remote?line=1'>2</a>\u001b[0m imgray \u001b[39m=\u001b[39m cv2\u001b[39m.\u001b[39mcvtColor(img, cv2\u001b[39m.\u001b[39mCOLOR_BGR2GRAY)\n\u001b[1;32m      <a href='vscode-notebook-cell://ssh-remote%2B101.101.209.53/opt/ml/final-project-level3-cv-16/preprocess.ipynb#ch0000003vscode-remote?line=2'>3</a>\u001b[0m ret, th \u001b[39m=\u001b[39m cv2\u001b[39m.\u001b[39mthreshold(imgray, \u001b[39m60\u001b[39m,\u001b[39m255\u001b[39m,cv2\u001b[39m.\u001b[39mTHRESH_BINARY)\n",
      "\u001b[0;31merror\u001b[0m: OpenCV(4.5.5) /io/opencv/modules/imgproc/src/color.cpp:182: error: (-215:Assertion failed) !_src.empty() in function 'cvtColor'\n"
     ]
    }
   ],
   "source": [
    "img = cv2.cvtColor(cv2.imread('fail4/199202070.png'),cv2.COLOR_BGR2RGB)\n",
    "imgray = cv2.cvtColor(img, cv2.COLOR_BGR2GRAY)\n",
    "ret, th = cv2.threshold(imgray, 60,255,cv2.THRESH_BINARY)\n",
    "\n",
    "# 컨튜어 찾기\n",
    "contours, _ = cv2.findContours(th, cv2.RETR_EXTERNAL, cv2.CHAIN_APPROX_NONE)\n",
    "print(len(contours))\n",
    "contr = contours[0]\n",
    "rect = cv2.minAreaRect(contr)\n",
    "print(rect)\n",
    "box = cv2.boxPoints(rect)   # 중심점과 각도를 4개의 꼭지점 좌표로 변환\n",
    "box = np.int0(box)          # 정수로 변환\n",
    "cv2.drawContours(img, [box], -1, (0,255,0), 3)\n",
    "plt.imshow(th)"
   ]
  },
  {
   "cell_type": "code",
   "execution_count": 38,
   "metadata": {},
   "outputs": [
    {
     "data": {
      "text/plain": [
       "24295"
      ]
     },
     "execution_count": 38,
     "metadata": {},
     "output_type": "execute_result"
    }
   ],
   "source": [
    "len(os.listdir('image_normalized'))"
   ]
  },
  {
   "cell_type": "code",
   "execution_count": 65,
   "metadata": {},
   "outputs": [
    {
     "data": {
      "text/plain": [
       "46"
      ]
     },
     "execution_count": 65,
     "metadata": {},
     "output_type": "execute_result"
    }
   ],
   "source": [
    "len(os.listdir('fail5'))"
   ]
  }
 ],
 "metadata": {
  "interpreter": {
   "hash": "dc7a1739b350b1f84347e77820591c4780dfaedc4c62a01284e26fcd14fa4855"
  },
  "kernelspec": {
   "display_name": "Python 3.9.12 ('rembg')",
   "language": "python",
   "name": "python3"
  },
  "language_info": {
   "codemirror_mode": {
    "name": "ipython",
    "version": 3
   },
   "file_extension": ".py",
   "mimetype": "text/x-python",
   "name": "python",
   "nbconvert_exporter": "python",
   "pygments_lexer": "ipython3",
   "version": "3.9.12"
  },
  "orig_nbformat": 4
 },
 "nbformat": 4,
 "nbformat_minor": 2
}

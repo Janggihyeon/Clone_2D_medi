{
 "cells": [
  {
   "cell_type": "code",
   "execution_count": 1,
   "id": "24c81f2b-150d-471d-b8e8-6dea7c94de6d",
   "metadata": {},
   "outputs": [],
   "source": [
    "import os\n",
    "from glob import glob\n",
    "import cv2\n",
    "from matplotlib import pyplot as plt"
   ]
  },
  {
   "cell_type": "code",
   "execution_count": 2,
   "id": "70a32b32-f6fb-4015-b1f2-cb58521de6f4",
   "metadata": {},
   "outputs": [
    {
     "name": "stdout",
     "output_type": "stream",
     "text": [
      "['/opt/ml/final-project-level3-cv-16/CRAFT-pytorch/result/res_200101951_front_no_aug.txt', '/opt/ml/final-project-level3-cv-16/CRAFT-pytorch/result/res_200102789_front_no_aug.txt', '/opt/ml/final-project-level3-cv-16/CRAFT-pytorch/result/res_200103029_front_no_aug.txt', '/opt/ml/final-project-level3-cv-16/CRAFT-pytorch/result/res_200308619_front_no_aug.txt', '/opt/ml/final-project-level3-cv-16/CRAFT-pytorch/result/res_200808280_front_no_aug.txt', '/opt/ml/final-project-level3-cv-16/CRAFT-pytorch/result/res_200808340_front_no_aug.txt', '/opt/ml/final-project-level3-cv-16/CRAFT-pytorch/result/res_200808340_front_rotated.txt', '/opt/ml/final-project-level3-cv-16/CRAFT-pytorch/result/res_B_CLAHE_crop.txt', '/opt/ml/final-project-level3-cv-16/CRAFT-pytorch/result/res_B_no_aug_crop.txt', '/opt/ml/final-project-level3-cv-16/CRAFT-pytorch/result/res_C B_CLAHE.txt', '/opt/ml/final-project-level3-cv-16/CRAFT-pytorch/result/res_C B_CannyEdge.txt', '/opt/ml/final-project-level3-cv-16/CRAFT-pytorch/result/res_C B_no_aug.txt', '/opt/ml/final-project-level3-cv-16/CRAFT-pytorch/result/res_CFC_no_aug.txt', '/opt/ml/final-project-level3-cv-16/CRAFT-pytorch/result/res_C_no_aug_crop.txt', '/opt/ml/final-project-level3-cv-16/CRAFT-pytorch/result/res_dw_CFC_CLAHE.txt', '/opt/ml/final-project-level3-cv-16/CRAFT-pytorch/result/res_dw_CFC_no_aug.txt', '/opt/ml/final-project-level3-cv-16/CRAFT-pytorch/result/res_dw_CLAHE_crop.txt', '/opt/ml/final-project-level3-cv-16/CRAFT-pytorch/result/res_dw_no_aug.txt', '/opt/ml/final-project-level3-cv-16/CRAFT-pytorch/result/res_korean_no_aug.txt', '/opt/ml/final-project-level3-cv-16/CRAFT-pytorch/result/res_korean_no_aug_crop.txt']\n"
     ]
    }
   ],
   "source": [
    "# CRAFT 모델을 거치고 결과 파일들이 저장된 폴더를 경로로 지정합니다.\n",
    "file_path = '/opt/ml/final-project-level3-cv-16/CRAFT-pytorch/result'\n",
    "\n",
    "# CRAFT 모델의 input으로 사용한 image file이 존재하는 폴더를 경로로 지정합니다.\n",
    "# image_path = '/opt/ml/final-project-level3-cv-16/data'\n",
    "image_path = '/opt/ml/final-project-level3-cv-16/deep-text-recognition-benchmark/demo_image'\n",
    "\n",
    "# CRAFT 모델을 거치고 나온 결과 파일들 중 BBOX가 기록되어있는 txt file들만 불러옵니다.\n",
    "annotations = glob(os.path.join(file_path, '*.txt'))\n",
    "annotations = sorted(annotations)\n",
    "print(annotations)"
   ]
  },
  {
   "cell_type": "code",
   "execution_count": 3,
   "id": "235baf60-974f-400c-b5d1-429dfda45dc9",
   "metadata": {},
   "outputs": [
    {
     "name": "stdout",
     "output_type": "stream",
     "text": [
      "200101951_front_no_aug\n",
      "200101951_front_no_aug\n",
      "200102789_front_no_aug\n",
      "200103029_front_no_aug\n",
      "200103029_front_no_aug\n",
      "200808280_front_no_aug\n",
      "200808340_front_rotated\n",
      "200808340_front_rotated\n",
      "C B_no_aug\n",
      "CFC_no_aug\n",
      "dw_CFC_CLAHE\n",
      "dw_CFC_CLAHE\n",
      "dw_CFC_CLAHE\n",
      "dw_CFC_CLAHE\n",
      "dw_CFC_CLAHE\n",
      "dw_CFC_CLAHE\n",
      "dw_CFC_CLAHE\n",
      "dw_CFC_CLAHE\n",
      "dw_CFC_CLAHE\n",
      "dw_CFC_CLAHE\n",
      "dw_CFC_CLAHE\n",
      "dw_CFC_no_aug\n",
      "dw_CFC_no_aug\n",
      "korean_no_aug\n",
      "korean_no_aug\n",
      "korean_no_aug_crop\n"
     ]
    },
    {
     "data": {
      "image/png": "[encoded data removed]",
      "text/plain": [
       "<Figure size 432x288 with 1 Axes>"
      ]
     },
     "metadata": {
      "needs_background": "light"
     },
     "output_type": "display_data"
    }
   ],
   "source": [
    "# 저장되어있는 모든 annotation file에 대해서 진행합니다.\n",
    "for anno_path in annotations:\n",
    "    \n",
    "    # file_name에 대해 전처리를 진행합니다.\n",
    "    file_name = anno_path.split('/')[-1]\n",
    "    file_name = '_'.join(file_name.split('_')[1:]).rstrip('.txt')\n",
    "    \n",
    "    # annotation file의 내용을 불러옵니다.\n",
    "    f = open(anno_path, 'r')\n",
    "    bboxes = f.readline()\n",
    "    \n",
    "    # annotation file에 BBOX 정보가 더이상 없을 때까지 진행합니다.\n",
    "    while bboxes != '':\n",
    "        print(file_name)\n",
    "        # BBOX의 x좌표 및 y좌표를 각각의 리스트에 담습니다.\n",
    "        x_values = list(map(int, bboxes.split(',')[0::2]))\n",
    "        y_values = list(map(int, bboxes.split(',')[1::2]))\n",
    "        \n",
    "        # 각 x좌표 및 y좌표에 대해 최대 및 최소 값을 구합니다.\n",
    "        x_min = min(x_values)\n",
    "        x_max = max(x_values)\n",
    "        y_min = min(y_values)\n",
    "        y_max = max(y_values)\n",
    "    \n",
    "        # 원본 이미지(알약이 crop되어 있는)를 불러오고 x좌표와 y좌표의 최대 및 최소 값을 이용하여 이미지를 crop합니다.\n",
    "        image = cv2.imread(os.path.join(image_path, file_name + '.png'))\n",
    "        cropped_image = image[y_min:y_max+1, x_min:x_max+1]\n",
    "        plt.imshow(cropped_image)\n",
    "        \n",
    "        bboxes = f.readline()"
   ]
  },
  {
   "cell_type": "code",
   "execution_count": null,
   "id": "1f896a60-91e9-48b1-b31e-b51238136ded",
   "metadata": {},
   "outputs": [],
   "source": []
  }
 ],
 "metadata": {
  "kernelspec": {
   "display_name": "Python 3 (ipykernel)",
   "language": "python",
   "name": "python3"
  },
  "language_info": {
   "codemirror_mode": {
    "name": "ipython",
    "version": 3
   },
   "file_extension": ".py",
   "mimetype": "text/x-python",
   "name": "python",
   "nbconvert_exporter": "python",
   "pygments_lexer": "ipython3",
   "version": "3.8.5"
  }
 },
 "nbformat": 4,
 "nbformat_minor": 5
}

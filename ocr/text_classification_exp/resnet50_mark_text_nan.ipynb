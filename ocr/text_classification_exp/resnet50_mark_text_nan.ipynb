{
 "cells": [
  {
   "cell_type": "markdown",
   "metadata": {},
   "source": [
    "## Import Library"
   ]
  },
  {
   "cell_type": "code",
   "execution_count": 35,
   "metadata": {},
   "outputs": [],
   "source": [
    "import os\n",
    "import cv2\n",
    "import pandas as pd\n",
    "import numpy as np\n",
    "import math\n",
    "import timm\n",
    "import yaml\n",
    "import random\n",
    "import torch\n",
    "import torch.nn as nn\n",
    "import albumentations\n",
    "import albumentations.pytorch\n",
    "\n",
    "from torch.utils.data import Dataset, DataLoader\n",
    "from torch.optim.lr_scheduler import _LRScheduler, CosineAnnealingLR, StepLR\n",
    "from sklearn.model_selection import StratifiedKFold, train_test_split\n",
    "from tqdm.auto import tqdm\n",
    "from tqdm.notebook import tqdm\n",
    "from easydict import EasyDict\n",
    "from torchvision import transforms\n",
    "from PIL import Image"
   ]
  },
  {
   "cell_type": "code",
   "execution_count": 36,
   "metadata": {},
   "outputs": [],
   "source": [
    "patience = 10\n",
    "counter = 0\n",
    "\n",
    "num_epochs = 50\n",
    "accumulation_steps = 2\n",
    "batch_size = 64\n",
    "train_log_interval = 100\n",
    "\n",
    "LEARNING_RATE = 0.0001 \n",
    "lr_decay_step = 5"
   ]
  },
  {
   "cell_type": "markdown",
   "metadata": {},
   "source": [
    "## Bring csv & Delete noise data"
   ]
  },
  {
   "cell_type": "code",
   "execution_count": 37,
   "metadata": {},
   "outputs": [],
   "source": [
    "filename = 'OpenData_PotOpenTabletIdntfc20220412.xls'\n",
    "df = pd.read_excel(filename, engine='openpyxl')"
   ]
  },
  {
   "cell_type": "code",
   "execution_count": 5,
   "metadata": {},
   "outputs": [],
   "source": [
    "## delete 구강정 데이터\n",
    "index_delete1 = df[df['품목일련번호']==200605327].index\n",
    "index_delete2 = df[df['품목일련번호']==200605328].index\n",
    "index_delete3 = df[df['품목일련번호']==200605329].index\n",
    "index_delete4 = df[df['품목일련번호']==200605330].index\n",
    "index_delete5 = df[df['품목일련번호']==200605331].index\n",
    "index_delete6 = df[df['품목일련번호']==200606263].index\n",
    "\n",
    "## delete 반원형 데이터\n",
    "index_delete7 = df[df['품목일련번호']==197800388].index\n",
    "index_delete8 = df[df['품목일련번호']==199906868].index\n",
    "index_delete9 = df[df['품목일련번호']==197900378].index"
   ]
  },
  {
   "cell_type": "code",
   "execution_count": 6,
   "metadata": {},
   "outputs": [],
   "source": [
    "df = df.drop(index_delete1)\n",
    "df = df.drop(index_delete2)\n",
    "df = df.drop(index_delete3)\n",
    "df = df.drop(index_delete4)\n",
    "df = df.drop(index_delete5)\n",
    "df = df.drop(index_delete6)\n",
    "df = df.drop(index_delete7)\n",
    "df = df.drop(index_delete8)\n",
    "df = df.drop(index_delete9)"
   ]
  },
  {
   "cell_type": "code",
   "execution_count": 7,
   "metadata": {},
   "outputs": [
    {
     "data": {
      "text/plain": [
       "array([['IDG', nan],\n",
       "       ['YH', 'LT'],\n",
       "       [nan, nan],\n",
       "       ...,\n",
       "       ['DTT DTT', nan],\n",
       "       ['ΛTB', '분할선'],\n",
       "       ['SK DEX', nan]], dtype=object)"
      ]
     },
     "execution_count": 7,
     "metadata": {},
     "output_type": "execute_result"
    }
   ],
   "source": [
    "df.iloc[:, [6, 7]].values"
   ]
  },
  {
   "cell_type": "code",
   "execution_count": 8,
   "metadata": {},
   "outputs": [],
   "source": [
    "is_text_mark_nan = []\n",
    "for front, back in df.iloc[:, [6, 7]].values:\n",
    "    # nan: 0, text: 1, mark: 2\n",
    "    if type(front) is float and type(back) is float:\n",
    "        is_text_mark_nan.append(0)\n",
    "    else:\n",
    "        if (type(front) is not float and '마크' in front) or (type(back) is not float and '마크' in back):\n",
    "            is_text_mark_nan.append(2)\n",
    "        else:\n",
    "            is_text_mark_nan.append(1)"
   ]
  },
  {
   "cell_type": "code",
   "execution_count": 9,
   "metadata": {},
   "outputs": [],
   "source": [
    "df.insert(29, 'text_mark_nan', is_text_mark_nan)"
   ]
  },
  {
   "cell_type": "code",
   "execution_count": 10,
   "metadata": {},
   "outputs": [],
   "source": [
    "num_classes = len(set(is_text_mark_nan))"
   ]
  },
  {
   "cell_type": "markdown",
   "metadata": {},
   "source": [
    "## Create CustomDataset"
   ]
  },
  {
   "cell_type": "code",
   "execution_count": 11,
   "metadata": {},
   "outputs": [],
   "source": [
    "class CustomDataset(Dataset):\n",
    "    def __init__(self, df, transform=None):\n",
    "        super().__init__()\n",
    "        self.df = df.reset_index()\n",
    "        self.image_id = self.df['품목일련번호']\n",
    "        self.labels = self.df['text_mark_nan']\n",
    "        self.transform = transform\n",
    "    \n",
    "    def __len__(self):\n",
    "        return len(self.df)\n",
    "\n",
    "    def __getitem__(self,idx):\n",
    "        image_id = self.image_id[idx]\n",
    "        label = self.labels[idx]\n",
    "        image_path = f'/opt/ml/data_handling/data/{image_id}.jpg'\n",
    "        image = Image.open(image_path)\n",
    "        if self.transform:\n",
    "            image = self.transform(image)\n",
    "        \n",
    "        return image, label"
   ]
  },
  {
   "cell_type": "markdown",
   "metadata": {},
   "source": [
    "## Split Train/Val"
   ]
  },
  {
   "cell_type": "code",
   "execution_count": 12,
   "metadata": {},
   "outputs": [],
   "source": [
    "image_num = df['품목일련번호']\n",
    "label = df['text_mark_nan']\n",
    "\n",
    "# https://teddylee777.github.io/scikit-learn/train-test-split\n",
    "x_train, x_valid, y_train, y_valid = train_test_split(image_num, label, test_size=0.2, stratify=label, random_state=22)"
   ]
  },
  {
   "cell_type": "code",
   "execution_count": 13,
   "metadata": {},
   "outputs": [],
   "source": [
    "## https://mizykk.tistory.com/131\n",
    "\n",
    "train_zip = zip(x_train, y_train)\n",
    "train_df = pd.DataFrame(train_zip)\n",
    "train_df.columns = ['품목일련번호','text_mark_nan']\n",
    "\n",
    "val_zip = zip(x_valid, y_valid)\n",
    "val_df = pd.DataFrame(val_zip)\n",
    "val_df.columns = ['품목일련번호','text_mark_nan']"
   ]
  },
  {
   "cell_type": "code",
   "execution_count": 14,
   "metadata": {},
   "outputs": [
    {
     "data": {
      "text/html": [
       "<div>\n",
       "<style scoped>\n",
       "    .dataframe tbody tr th:only-of-type {\n",
       "        vertical-align: middle;\n",
       "    }\n",
       "\n",
       "    .dataframe tbody tr th {\n",
       "        vertical-align: top;\n",
       "    }\n",
       "\n",
       "    .dataframe thead th {\n",
       "        text-align: right;\n",
       "    }\n",
       "</style>\n",
       "<table border=\"1\" class=\"dataframe\">\n",
       "  <thead>\n",
       "    <tr style=\"text-align: right;\">\n",
       "      <th></th>\n",
       "      <th>품목일련번호</th>\n",
       "    </tr>\n",
       "    <tr>\n",
       "      <th>text_mark_nan</th>\n",
       "      <th></th>\n",
       "    </tr>\n",
       "  </thead>\n",
       "  <tbody>\n",
       "    <tr>\n",
       "      <th>0</th>\n",
       "      <td>147</td>\n",
       "    </tr>\n",
       "    <tr>\n",
       "      <th>1</th>\n",
       "      <td>16779</td>\n",
       "    </tr>\n",
       "    <tr>\n",
       "      <th>2</th>\n",
       "      <td>2564</td>\n",
       "    </tr>\n",
       "  </tbody>\n",
       "</table>\n",
       "</div>"
      ],
      "text/plain": [
       "               품목일련번호\n",
       "text_mark_nan        \n",
       "0                 147\n",
       "1               16779\n",
       "2                2564"
      ]
     },
     "execution_count": 14,
     "metadata": {},
     "output_type": "execute_result"
    }
   ],
   "source": [
    "train_df.groupby('text_mark_nan').count()"
   ]
  },
  {
   "cell_type": "code",
   "execution_count": 15,
   "metadata": {},
   "outputs": [
    {
     "data": {
      "text/plain": [
       "품목일련번호    19490\n",
       "dtype: int64"
      ]
     },
     "execution_count": 15,
     "metadata": {},
     "output_type": "execute_result"
    }
   ],
   "source": [
    "train_df.groupby('text_mark_nan').count().sum()"
   ]
  },
  {
   "cell_type": "code",
   "execution_count": 16,
   "metadata": {},
   "outputs": [
    {
     "data": {
      "text/html": [
       "<div>\n",
       "<style scoped>\n",
       "    .dataframe tbody tr th:only-of-type {\n",
       "        vertical-align: middle;\n",
       "    }\n",
       "\n",
       "    .dataframe tbody tr th {\n",
       "        vertical-align: top;\n",
       "    }\n",
       "\n",
       "    .dataframe thead th {\n",
       "        text-align: right;\n",
       "    }\n",
       "</style>\n",
       "<table border=\"1\" class=\"dataframe\">\n",
       "  <thead>\n",
       "    <tr style=\"text-align: right;\">\n",
       "      <th></th>\n",
       "      <th>품목일련번호</th>\n",
       "    </tr>\n",
       "    <tr>\n",
       "      <th>text_mark_nan</th>\n",
       "      <th></th>\n",
       "    </tr>\n",
       "  </thead>\n",
       "  <tbody>\n",
       "    <tr>\n",
       "      <th>0</th>\n",
       "      <td>37</td>\n",
       "    </tr>\n",
       "    <tr>\n",
       "      <th>1</th>\n",
       "      <td>4195</td>\n",
       "    </tr>\n",
       "    <tr>\n",
       "      <th>2</th>\n",
       "      <td>641</td>\n",
       "    </tr>\n",
       "  </tbody>\n",
       "</table>\n",
       "</div>"
      ],
      "text/plain": [
       "               품목일련번호\n",
       "text_mark_nan        \n",
       "0                  37\n",
       "1                4195\n",
       "2                 641"
      ]
     },
     "execution_count": 16,
     "metadata": {},
     "output_type": "execute_result"
    }
   ],
   "source": [
    "val_df.groupby('text_mark_nan').count()"
   ]
  },
  {
   "cell_type": "code",
   "execution_count": 17,
   "metadata": {},
   "outputs": [
    {
     "data": {
      "text/plain": [
       "품목일련번호    4873\n",
       "dtype: int64"
      ]
     },
     "execution_count": 17,
     "metadata": {},
     "output_type": "execute_result"
    }
   ],
   "source": [
    "val_df.groupby('text_mark_nan').count().sum()"
   ]
  },
  {
   "cell_type": "code",
   "execution_count": 18,
   "metadata": {},
   "outputs": [],
   "source": [
    "transform = transforms.Compose([\n",
    "    transforms.Resize((224,224)),\n",
    "    transforms.ToTensor(),\n",
    "    transforms.Normalize(\n",
    "        [0.485, 0.456, 0.406],\n",
    "        [0.229, 0.224, 0.225]\n",
    "    )\n",
    "])\n",
    "\n",
    "train_dataset = CustomDataset(train_df, transform=transform)\n",
    "val_dataset = CustomDataset(val_df, transform=transform)"
   ]
  },
  {
   "cell_type": "code",
   "execution_count": 19,
   "metadata": {
    "tags": []
   },
   "outputs": [
    {
     "data": {
      "text/plain": [
       "(tensor([[[1.1529, 1.1529, 1.1529,  ..., 1.1529, 1.1529, 1.1529],\n",
       "          [1.1529, 1.1529, 1.1529,  ..., 1.1529, 1.1529, 1.1529],\n",
       "          [1.1529, 1.1529, 1.1529,  ..., 1.1529, 1.1529, 1.1529],\n",
       "          ...,\n",
       "          [1.1529, 1.1529, 1.1529,  ..., 1.1529, 1.1529, 1.1529],\n",
       "          [1.1529, 1.1529, 1.1529,  ..., 1.1529, 1.1529, 1.1529],\n",
       "          [1.1529, 1.1529, 1.1529,  ..., 1.1529, 1.1529, 1.1529]],\n",
       " \n",
       "         [[1.5707, 1.5707, 1.5707,  ..., 1.5707, 1.5707, 1.5707],\n",
       "          [1.5707, 1.5707, 1.5707,  ..., 1.5707, 1.5707, 1.5707],\n",
       "          [1.5707, 1.5707, 1.5707,  ..., 1.5707, 1.5707, 1.5707],\n",
       "          ...,\n",
       "          [1.5707, 1.5707, 1.5707,  ..., 1.5707, 1.5707, 1.5707],\n",
       "          [1.5707, 1.5707, 1.5707,  ..., 1.5707, 1.5707, 1.5707],\n",
       "          [1.5707, 1.5707, 1.5707,  ..., 1.5707, 1.5707, 1.5707]],\n",
       " \n",
       "         [[2.1171, 2.1171, 2.1171,  ..., 2.1171, 2.1171, 2.1171],\n",
       "          [2.1171, 2.1171, 2.1171,  ..., 2.1171, 2.1171, 2.1171],\n",
       "          [2.1171, 2.1171, 2.1171,  ..., 2.1171, 2.1171, 2.1171],\n",
       "          ...,\n",
       "          [2.1171, 2.1171, 2.1171,  ..., 2.1171, 2.1171, 2.1171],\n",
       "          [2.1171, 2.1171, 2.1171,  ..., 2.1171, 2.1171, 2.1171],\n",
       "          [2.1171, 2.1171, 2.1171,  ..., 2.1171, 2.1171, 2.1171]]]),\n",
       " 1)"
      ]
     },
     "execution_count": 19,
     "metadata": {},
     "output_type": "execute_result"
    }
   ],
   "source": [
    "image, label = next(iter(train_dataset))\n",
    "image, label"
   ]
  },
  {
   "cell_type": "code",
   "execution_count": 20,
   "metadata": {
    "tags": []
   },
   "outputs": [
    {
     "data": {
      "text/plain": [
       "(tensor([[[1.1529, 1.1529, 1.1529,  ..., 1.1529, 1.1529, 1.1529],\n",
       "          [1.1529, 1.1529, 1.1529,  ..., 1.1529, 1.1529, 1.1529],\n",
       "          [1.1529, 1.1529, 1.1529,  ..., 1.1529, 1.1529, 1.1529],\n",
       "          ...,\n",
       "          [1.1529, 1.1529, 1.1529,  ..., 1.1529, 1.1529, 1.1529],\n",
       "          [1.1529, 1.1529, 1.1529,  ..., 1.1529, 1.1529, 1.1529],\n",
       "          [1.1529, 1.1529, 1.1529,  ..., 1.1529, 1.1529, 1.1529]],\n",
       " \n",
       "         [[1.5707, 1.5707, 1.5707,  ..., 1.5707, 1.5707, 1.5707],\n",
       "          [1.5707, 1.5707, 1.5707,  ..., 1.5707, 1.5707, 1.5707],\n",
       "          [1.5707, 1.5707, 1.5707,  ..., 1.5707, 1.5707, 1.5707],\n",
       "          ...,\n",
       "          [1.5707, 1.5707, 1.5707,  ..., 1.5707, 1.5707, 1.5707],\n",
       "          [1.5707, 1.5707, 1.5707,  ..., 1.5707, 1.5707, 1.5707],\n",
       "          [1.5707, 1.5707, 1.5707,  ..., 1.5707, 1.5707, 1.5707]],\n",
       " \n",
       "         [[2.1171, 2.1171, 2.1171,  ..., 2.1171, 2.1171, 2.1171],\n",
       "          [2.1171, 2.1171, 2.1171,  ..., 2.1171, 2.1171, 2.1171],\n",
       "          [2.1171, 2.1171, 2.1171,  ..., 2.1171, 2.1171, 2.1171],\n",
       "          ...,\n",
       "          [2.1171, 2.1171, 2.1171,  ..., 2.1171, 2.1171, 2.1171],\n",
       "          [2.1171, 2.1171, 2.1171,  ..., 2.1171, 2.1171, 2.1171],\n",
       "          [2.1171, 2.1171, 2.1171,  ..., 2.1171, 2.1171, 2.1171]]]),\n",
       " 1)"
      ]
     },
     "execution_count": 20,
     "metadata": {},
     "output_type": "execute_result"
    }
   ],
   "source": [
    "image, label = next(iter(val_dataset))\n",
    "image, label"
   ]
  },
  {
   "cell_type": "code",
   "execution_count": 21,
   "metadata": {},
   "outputs": [],
   "source": [
    "train_loader = DataLoader(train_dataset, shuffle=True, batch_size=batch_size)\n",
    "val_loader = DataLoader(val_dataset, shuffle=False, batch_size=batch_size)"
   ]
  },
  {
   "cell_type": "markdown",
   "metadata": {},
   "source": [
    "## Pretrained Model"
   ]
  },
  {
   "cell_type": "code",
   "execution_count": 22,
   "metadata": {
    "tags": []
   },
   "outputs": [
    {
     "data": {
      "text/plain": [
       "ResNet(\n",
       "  (conv1): Conv2d(3, 64, kernel_size=(7, 7), stride=(2, 2), padding=(3, 3), bias=False)\n",
       "  (bn1): BatchNorm2d(64, eps=1e-05, momentum=0.1, affine=True, track_running_stats=True)\n",
       "  (act1): ReLU(inplace=True)\n",
       "  (maxpool): MaxPool2d(kernel_size=3, stride=2, padding=1, dilation=1, ceil_mode=False)\n",
       "  (layer1): Sequential(\n",
       "    (0): Bottleneck(\n",
       "      (conv1): Conv2d(64, 64, kernel_size=(1, 1), stride=(1, 1), bias=False)\n",
       "      (bn1): BatchNorm2d(64, eps=1e-05, momentum=0.1, affine=True, track_running_stats=True)\n",
       "      (act1): ReLU(inplace=True)\n",
       "      (conv2): Conv2d(64, 64, kernel_size=(3, 3), stride=(1, 1), padding=(1, 1), bias=False)\n",
       "      (bn2): BatchNorm2d(64, eps=1e-05, momentum=0.1, affine=True, track_running_stats=True)\n",
       "      (act2): ReLU(inplace=True)\n",
       "      (conv3): Conv2d(64, 256, kernel_size=(1, 1), stride=(1, 1), bias=False)\n",
       "      (bn3): BatchNorm2d(256, eps=1e-05, momentum=0.1, affine=True, track_running_stats=True)\n",
       "      (act3): ReLU(inplace=True)\n",
       "      (downsample): Sequential(\n",
       "        (0): Conv2d(64, 256, kernel_size=(1, 1), stride=(1, 1), bias=False)\n",
       "        (1): BatchNorm2d(256, eps=1e-05, momentum=0.1, affine=True, track_running_stats=True)\n",
       "      )\n",
       "    )\n",
       "    (1): Bottleneck(\n",
       "      (conv1): Conv2d(256, 64, kernel_size=(1, 1), stride=(1, 1), bias=False)\n",
       "      (bn1): BatchNorm2d(64, eps=1e-05, momentum=0.1, affine=True, track_running_stats=True)\n",
       "      (act1): ReLU(inplace=True)\n",
       "      (conv2): Conv2d(64, 64, kernel_size=(3, 3), stride=(1, 1), padding=(1, 1), bias=False)\n",
       "      (bn2): BatchNorm2d(64, eps=1e-05, momentum=0.1, affine=True, track_running_stats=True)\n",
       "      (act2): ReLU(inplace=True)\n",
       "      (conv3): Conv2d(64, 256, kernel_size=(1, 1), stride=(1, 1), bias=False)\n",
       "      (bn3): BatchNorm2d(256, eps=1e-05, momentum=0.1, affine=True, track_running_stats=True)\n",
       "      (act3): ReLU(inplace=True)\n",
       "    )\n",
       "    (2): Bottleneck(\n",
       "      (conv1): Conv2d(256, 64, kernel_size=(1, 1), stride=(1, 1), bias=False)\n",
       "      (bn1): BatchNorm2d(64, eps=1e-05, momentum=0.1, affine=True, track_running_stats=True)\n",
       "      (act1): ReLU(inplace=True)\n",
       "      (conv2): Conv2d(64, 64, kernel_size=(3, 3), stride=(1, 1), padding=(1, 1), bias=False)\n",
       "      (bn2): BatchNorm2d(64, eps=1e-05, momentum=0.1, affine=True, track_running_stats=True)\n",
       "      (act2): ReLU(inplace=True)\n",
       "      (conv3): Conv2d(64, 256, kernel_size=(1, 1), stride=(1, 1), bias=False)\n",
       "      (bn3): BatchNorm2d(256, eps=1e-05, momentum=0.1, affine=True, track_running_stats=True)\n",
       "      (act3): ReLU(inplace=True)\n",
       "    )\n",
       "  )\n",
       "  (layer2): Sequential(\n",
       "    (0): Bottleneck(\n",
       "      (conv1): Conv2d(256, 128, kernel_size=(1, 1), stride=(1, 1), bias=False)\n",
       "      (bn1): BatchNorm2d(128, eps=1e-05, momentum=0.1, affine=True, track_running_stats=True)\n",
       "      (act1): ReLU(inplace=True)\n",
       "      (conv2): Conv2d(128, 128, kernel_size=(3, 3), stride=(2, 2), padding=(1, 1), bias=False)\n",
       "      (bn2): BatchNorm2d(128, eps=1e-05, momentum=0.1, affine=True, track_running_stats=True)\n",
       "      (act2): ReLU(inplace=True)\n",
       "      (conv3): Conv2d(128, 512, kernel_size=(1, 1), stride=(1, 1), bias=False)\n",
       "      (bn3): BatchNorm2d(512, eps=1e-05, momentum=0.1, affine=True, track_running_stats=True)\n",
       "      (act3): ReLU(inplace=True)\n",
       "      (downsample): Sequential(\n",
       "        (0): Conv2d(256, 512, kernel_size=(1, 1), stride=(2, 2), bias=False)\n",
       "        (1): BatchNorm2d(512, eps=1e-05, momentum=0.1, affine=True, track_running_stats=True)\n",
       "      )\n",
       "    )\n",
       "    (1): Bottleneck(\n",
       "      (conv1): Conv2d(512, 128, kernel_size=(1, 1), stride=(1, 1), bias=False)\n",
       "      (bn1): BatchNorm2d(128, eps=1e-05, momentum=0.1, affine=True, track_running_stats=True)\n",
       "      (act1): ReLU(inplace=True)\n",
       "      (conv2): Conv2d(128, 128, kernel_size=(3, 3), stride=(1, 1), padding=(1, 1), bias=False)\n",
       "      (bn2): BatchNorm2d(128, eps=1e-05, momentum=0.1, affine=True, track_running_stats=True)\n",
       "      (act2): ReLU(inplace=True)\n",
       "      (conv3): Conv2d(128, 512, kernel_size=(1, 1), stride=(1, 1), bias=False)\n",
       "      (bn3): BatchNorm2d(512, eps=1e-05, momentum=0.1, affine=True, track_running_stats=True)\n",
       "      (act3): ReLU(inplace=True)\n",
       "    )\n",
       "    (2): Bottleneck(\n",
       "      (conv1): Conv2d(512, 128, kernel_size=(1, 1), stride=(1, 1), bias=False)\n",
       "      (bn1): BatchNorm2d(128, eps=1e-05, momentum=0.1, affine=True, track_running_stats=True)\n",
       "      (act1): ReLU(inplace=True)\n",
       "      (conv2): Conv2d(128, 128, kernel_size=(3, 3), stride=(1, 1), padding=(1, 1), bias=False)\n",
       "      (bn2): BatchNorm2d(128, eps=1e-05, momentum=0.1, affine=True, track_running_stats=True)\n",
       "      (act2): ReLU(inplace=True)\n",
       "      (conv3): Conv2d(128, 512, kernel_size=(1, 1), stride=(1, 1), bias=False)\n",
       "      (bn3): BatchNorm2d(512, eps=1e-05, momentum=0.1, affine=True, track_running_stats=True)\n",
       "      (act3): ReLU(inplace=True)\n",
       "    )\n",
       "    (3): Bottleneck(\n",
       "      (conv1): Conv2d(512, 128, kernel_size=(1, 1), stride=(1, 1), bias=False)\n",
       "      (bn1): BatchNorm2d(128, eps=1e-05, momentum=0.1, affine=True, track_running_stats=True)\n",
       "      (act1): ReLU(inplace=True)\n",
       "      (conv2): Conv2d(128, 128, kernel_size=(3, 3), stride=(1, 1), padding=(1, 1), bias=False)\n",
       "      (bn2): BatchNorm2d(128, eps=1e-05, momentum=0.1, affine=True, track_running_stats=True)\n",
       "      (act2): ReLU(inplace=True)\n",
       "      (conv3): Conv2d(128, 512, kernel_size=(1, 1), stride=(1, 1), bias=False)\n",
       "      (bn3): BatchNorm2d(512, eps=1e-05, momentum=0.1, affine=True, track_running_stats=True)\n",
       "      (act3): ReLU(inplace=True)\n",
       "    )\n",
       "  )\n",
       "  (layer3): Sequential(\n",
       "    (0): Bottleneck(\n",
       "      (conv1): Conv2d(512, 256, kernel_size=(1, 1), stride=(1, 1), bias=False)\n",
       "      (bn1): BatchNorm2d(256, eps=1e-05, momentum=0.1, affine=True, track_running_stats=True)\n",
       "      (act1): ReLU(inplace=True)\n",
       "      (conv2): Conv2d(256, 256, kernel_size=(3, 3), stride=(2, 2), padding=(1, 1), bias=False)\n",
       "      (bn2): BatchNorm2d(256, eps=1e-05, momentum=0.1, affine=True, track_running_stats=True)\n",
       "      (act2): ReLU(inplace=True)\n",
       "      (conv3): Conv2d(256, 1024, kernel_size=(1, 1), stride=(1, 1), bias=False)\n",
       "      (bn3): BatchNorm2d(1024, eps=1e-05, momentum=0.1, affine=True, track_running_stats=True)\n",
       "      (act3): ReLU(inplace=True)\n",
       "      (downsample): Sequential(\n",
       "        (0): Conv2d(512, 1024, kernel_size=(1, 1), stride=(2, 2), bias=False)\n",
       "        (1): BatchNorm2d(1024, eps=1e-05, momentum=0.1, affine=True, track_running_stats=True)\n",
       "      )\n",
       "    )\n",
       "    (1): Bottleneck(\n",
       "      (conv1): Conv2d(1024, 256, kernel_size=(1, 1), stride=(1, 1), bias=False)\n",
       "      (bn1): BatchNorm2d(256, eps=1e-05, momentum=0.1, affine=True, track_running_stats=True)\n",
       "      (act1): ReLU(inplace=True)\n",
       "      (conv2): Conv2d(256, 256, kernel_size=(3, 3), stride=(1, 1), padding=(1, 1), bias=False)\n",
       "      (bn2): BatchNorm2d(256, eps=1e-05, momentum=0.1, affine=True, track_running_stats=True)\n",
       "      (act2): ReLU(inplace=True)\n",
       "      (conv3): Conv2d(256, 1024, kernel_size=(1, 1), stride=(1, 1), bias=False)\n",
       "      (bn3): BatchNorm2d(1024, eps=1e-05, momentum=0.1, affine=True, track_running_stats=True)\n",
       "      (act3): ReLU(inplace=True)\n",
       "    )\n",
       "    (2): Bottleneck(\n",
       "      (conv1): Conv2d(1024, 256, kernel_size=(1, 1), stride=(1, 1), bias=False)\n",
       "      (bn1): BatchNorm2d(256, eps=1e-05, momentum=0.1, affine=True, track_running_stats=True)\n",
       "      (act1): ReLU(inplace=True)\n",
       "      (conv2): Conv2d(256, 256, kernel_size=(3, 3), stride=(1, 1), padding=(1, 1), bias=False)\n",
       "      (bn2): BatchNorm2d(256, eps=1e-05, momentum=0.1, affine=True, track_running_stats=True)\n",
       "      (act2): ReLU(inplace=True)\n",
       "      (conv3): Conv2d(256, 1024, kernel_size=(1, 1), stride=(1, 1), bias=False)\n",
       "      (bn3): BatchNorm2d(1024, eps=1e-05, momentum=0.1, affine=True, track_running_stats=True)\n",
       "      (act3): ReLU(inplace=True)\n",
       "    )\n",
       "    (3): Bottleneck(\n",
       "      (conv1): Conv2d(1024, 256, kernel_size=(1, 1), stride=(1, 1), bias=False)\n",
       "      (bn1): BatchNorm2d(256, eps=1e-05, momentum=0.1, affine=True, track_running_stats=True)\n",
       "      (act1): ReLU(inplace=True)\n",
       "      (conv2): Conv2d(256, 256, kernel_size=(3, 3), stride=(1, 1), padding=(1, 1), bias=False)\n",
       "      (bn2): BatchNorm2d(256, eps=1e-05, momentum=0.1, affine=True, track_running_stats=True)\n",
       "      (act2): ReLU(inplace=True)\n",
       "      (conv3): Conv2d(256, 1024, kernel_size=(1, 1), stride=(1, 1), bias=False)\n",
       "      (bn3): BatchNorm2d(1024, eps=1e-05, momentum=0.1, affine=True, track_running_stats=True)\n",
       "      (act3): ReLU(inplace=True)\n",
       "    )\n",
       "    (4): Bottleneck(\n",
       "      (conv1): Conv2d(1024, 256, kernel_size=(1, 1), stride=(1, 1), bias=False)\n",
       "      (bn1): BatchNorm2d(256, eps=1e-05, momentum=0.1, affine=True, track_running_stats=True)\n",
       "      (act1): ReLU(inplace=True)\n",
       "      (conv2): Conv2d(256, 256, kernel_size=(3, 3), stride=(1, 1), padding=(1, 1), bias=False)\n",
       "      (bn2): BatchNorm2d(256, eps=1e-05, momentum=0.1, affine=True, track_running_stats=True)\n",
       "      (act2): ReLU(inplace=True)\n",
       "      (conv3): Conv2d(256, 1024, kernel_size=(1, 1), stride=(1, 1), bias=False)\n",
       "      (bn3): BatchNorm2d(1024, eps=1e-05, momentum=0.1, affine=True, track_running_stats=True)\n",
       "      (act3): ReLU(inplace=True)\n",
       "    )\n",
       "    (5): Bottleneck(\n",
       "      (conv1): Conv2d(1024, 256, kernel_size=(1, 1), stride=(1, 1), bias=False)\n",
       "      (bn1): BatchNorm2d(256, eps=1e-05, momentum=0.1, affine=True, track_running_stats=True)\n",
       "      (act1): ReLU(inplace=True)\n",
       "      (conv2): Conv2d(256, 256, kernel_size=(3, 3), stride=(1, 1), padding=(1, 1), bias=False)\n",
       "      (bn2): BatchNorm2d(256, eps=1e-05, momentum=0.1, affine=True, track_running_stats=True)\n",
       "      (act2): ReLU(inplace=True)\n",
       "      (conv3): Conv2d(256, 1024, kernel_size=(1, 1), stride=(1, 1), bias=False)\n",
       "      (bn3): BatchNorm2d(1024, eps=1e-05, momentum=0.1, affine=True, track_running_stats=True)\n",
       "      (act3): ReLU(inplace=True)\n",
       "    )\n",
       "  )\n",
       "  (layer4): Sequential(\n",
       "    (0): Bottleneck(\n",
       "      (conv1): Conv2d(1024, 512, kernel_size=(1, 1), stride=(1, 1), bias=False)\n",
       "      (bn1): BatchNorm2d(512, eps=1e-05, momentum=0.1, affine=True, track_running_stats=True)\n",
       "      (act1): ReLU(inplace=True)\n",
       "      (conv2): Conv2d(512, 512, kernel_size=(3, 3), stride=(2, 2), padding=(1, 1), bias=False)\n",
       "      (bn2): BatchNorm2d(512, eps=1e-05, momentum=0.1, affine=True, track_running_stats=True)\n",
       "      (act2): ReLU(inplace=True)\n",
       "      (conv3): Conv2d(512, 2048, kernel_size=(1, 1), stride=(1, 1), bias=False)\n",
       "      (bn3): BatchNorm2d(2048, eps=1e-05, momentum=0.1, affine=True, track_running_stats=True)\n",
       "      (act3): ReLU(inplace=True)\n",
       "      (downsample): Sequential(\n",
       "        (0): Conv2d(1024, 2048, kernel_size=(1, 1), stride=(2, 2), bias=False)\n",
       "        (1): BatchNorm2d(2048, eps=1e-05, momentum=0.1, affine=True, track_running_stats=True)\n",
       "      )\n",
       "    )\n",
       "    (1): Bottleneck(\n",
       "      (conv1): Conv2d(2048, 512, kernel_size=(1, 1), stride=(1, 1), bias=False)\n",
       "      (bn1): BatchNorm2d(512, eps=1e-05, momentum=0.1, affine=True, track_running_stats=True)\n",
       "      (act1): ReLU(inplace=True)\n",
       "      (conv2): Conv2d(512, 512, kernel_size=(3, 3), stride=(1, 1), padding=(1, 1), bias=False)\n",
       "      (bn2): BatchNorm2d(512, eps=1e-05, momentum=0.1, affine=True, track_running_stats=True)\n",
       "      (act2): ReLU(inplace=True)\n",
       "      (conv3): Conv2d(512, 2048, kernel_size=(1, 1), stride=(1, 1), bias=False)\n",
       "      (bn3): BatchNorm2d(2048, eps=1e-05, momentum=0.1, affine=True, track_running_stats=True)\n",
       "      (act3): ReLU(inplace=True)\n",
       "    )\n",
       "    (2): Bottleneck(\n",
       "      (conv1): Conv2d(2048, 512, kernel_size=(1, 1), stride=(1, 1), bias=False)\n",
       "      (bn1): BatchNorm2d(512, eps=1e-05, momentum=0.1, affine=True, track_running_stats=True)\n",
       "      (act1): ReLU(inplace=True)\n",
       "      (conv2): Conv2d(512, 512, kernel_size=(3, 3), stride=(1, 1), padding=(1, 1), bias=False)\n",
       "      (bn2): BatchNorm2d(512, eps=1e-05, momentum=0.1, affine=True, track_running_stats=True)\n",
       "      (act2): ReLU(inplace=True)\n",
       "      (conv3): Conv2d(512, 2048, kernel_size=(1, 1), stride=(1, 1), bias=False)\n",
       "      (bn3): BatchNorm2d(2048, eps=1e-05, momentum=0.1, affine=True, track_running_stats=True)\n",
       "      (act3): ReLU(inplace=True)\n",
       "    )\n",
       "  )\n",
       "  (global_pool): SelectAdaptivePool2d (pool_type=avg, flatten=Flatten(start_dim=1, end_dim=-1))\n",
       "  (fc): Linear(in_features=2048, out_features=3, bias=True)\n",
       ")"
      ]
     },
     "execution_count": 22,
     "metadata": {},
     "output_type": "execute_result"
    }
   ],
   "source": [
    "model_name = 'resnet50'\n",
    "model = timm.create_model(model_name, pretrained=True, num_classes=num_classes)\n",
    "\n",
    "device = torch.device(\"cuda:0\" if torch.cuda.is_available() else \"cpu\") \n",
    "model.to(device) "
   ]
  },
  {
   "cell_type": "code",
   "execution_count": 23,
   "metadata": {},
   "outputs": [],
   "source": [
    "criterion = torch.nn.CrossEntropyLoss() \n",
    "optimizer = torch.optim.Adam(model.parameters(), lr=LEARNING_RATE) \n",
    "scheduler = StepLR(optimizer, lr_decay_step, gamma=0.5)"
   ]
  },
  {
   "cell_type": "code",
   "execution_count": 24,
   "metadata": {
    "tags": []
   },
   "outputs": [
    {
     "name": "stderr",
     "output_type": "stream",
     "text": [
      "\u001b[34m\u001b[1mwandb\u001b[0m: Currently logged in as: \u001b[33mseoulsky_field\u001b[0m (\u001b[33mmedic\u001b[0m). Use \u001b[1m`wandb login --relogin`\u001b[0m to force relogin\n"
     ]
    },
    {
     "data": {
      "text/html": [
       "Tracking run with wandb version 0.12.16"
      ],
      "text/plain": [
       "<IPython.core.display.HTML object>"
      ]
     },
     "metadata": {},
     "output_type": "display_data"
    },
    {
     "data": {
      "text/html": [
       "Run data is saved locally in <code>/opt/ml/final-project-level3-cv-16/wandb/run-20220525_130542-ygzs56s2</code>"
      ],
      "text/plain": [
       "<IPython.core.display.HTML object>"
      ]
     },
     "metadata": {},
     "output_type": "display_data"
    },
    {
     "data": {
      "text/html": [
       "Syncing run <strong><a href=\"https://wandb.ai/medic/final-project/runs/ygzs56s2\" target=\"_blank\">KM_resnet50_text_mark_nan</a></strong> to <a href=\"https://wandb.ai/medic/final-project\" target=\"_blank\">Weights & Biases</a> (<a href=\"https://wandb.me/run\" target=\"_blank\">docs</a>)<br/>"
      ],
      "text/plain": [
       "<IPython.core.display.HTML object>"
      ]
     },
     "metadata": {},
     "output_type": "display_data"
    },
    {
     "data": {
      "application/vnd.jupyter.widget-view+json": {
       "model_id": "5b2acab35ad54342a2fe6f50de41f505",
       "version_major": 2,
       "version_minor": 0
      },
      "text/plain": [
       "HBox(children=(HTML(value=''), FloatProgress(value=1.0, bar_style='info', layout=Layout(width='20px'), max=1.0…"
      ]
     },
     "metadata": {},
     "output_type": "display_data"
    },
    {
     "name": "stdout",
     "output_type": "stream",
     "text": [
      "Epoch[0/50](100/305) || training loss 0.4472 || training accuracy 85.83% || lr [0.0001]\n",
      "Epoch[0/50](200/305) || training loss 0.3789 || training accuracy 85.83% || lr [0.0001]\n",
      "Epoch[0/50](300/305) || training loss 0.3122 || training accuracy 88.25% || lr [0.0001]\n",
      "\n",
      "Calculating validation results...\n",
      "New best model for val accuracy! saving the model..\n",
      "accuracy by label: [0.67567568 0.99189511 0.28393136]\n",
      "[Val] acc : 89.64%, loss: 0.28 || best acc : 89.64%, best loss: 0.28\n",
      "nan: 0.6756756756756757\n",
      "text: 0.9918951132300358\n",
      "mark: 0.2839313572542902\n",
      "\n"
     ]
    },
    {
     "data": {
      "application/vnd.jupyter.widget-view+json": {
       "model_id": "9f4079f79ae747048d41aa57fd5fc11d",
       "version_major": 2,
       "version_minor": 0
      },
      "text/plain": [
       "HBox(children=(HTML(value=''), FloatProgress(value=1.0, bar_style='info', layout=Layout(width='20px'), max=1.0…"
      ]
     },
     "metadata": {},
     "output_type": "display_data"
    },
    {
     "name": "stdout",
     "output_type": "stream",
     "text": [
      "Epoch[1/50](100/305) || training loss 0.2333 || training accuracy 91.92% || lr [0.0001]\n",
      "Epoch[1/50](200/305) || training loss 0.2032 || training accuracy 92.89% || lr [0.0001]\n",
      "Epoch[1/50](300/305) || training loss 0.1951 || training accuracy 93.20% || lr [0.0001]\n",
      "\n",
      "Calculating validation results...\n",
      "New best model for val accuracy! saving the model..\n",
      "accuracy by label: [0.97297297 0.98593564 0.57098284]\n",
      "[Val] acc : 93.13%, loss: 0.21 || best acc : 93.13%, best loss: 0.21\n",
      "nan: 0.972972972972973\n",
      "text: 0.9859356376638856\n",
      "mark: 0.5709828393135725\n",
      "\n"
     ]
    },
    {
     "data": {
      "application/vnd.jupyter.widget-view+json": {
       "model_id": "c2ac5fd9f8da4feb814e9e782c8e564c",
       "version_major": 2,
       "version_minor": 0
      },
      "text/plain": [
       "HBox(children=(HTML(value=''), FloatProgress(value=1.0, bar_style='info', layout=Layout(width='20px'), max=1.0…"
      ]
     },
     "metadata": {},
     "output_type": "display_data"
    },
    {
     "name": "stdout",
     "output_type": "stream",
     "text": [
      "Epoch[2/50](100/305) || training loss 0.1332 || training accuracy 95.59% || lr [0.0001]\n",
      "Epoch[2/50](200/305) || training loss 0.1438 || training accuracy 95.14% || lr [0.0001]\n",
      "Epoch[2/50](300/305) || training loss 0.1249 || training accuracy 95.91% || lr [0.0001]\n",
      "\n",
      "Calculating validation results...\n",
      "New best model for val accuracy! saving the model..\n",
      "accuracy by label: [0.75675676 0.98569726 0.59906396]\n",
      "[Val] acc : 93.31%, loss:  0.2 || best acc : 93.31%, best loss:  0.2\n",
      "nan: 0.7567567567567568\n",
      "text: 0.9856972586412396\n",
      "mark: 0.5990639625585024\n",
      "\n"
     ]
    },
    {
     "data": {
      "application/vnd.jupyter.widget-view+json": {
       "model_id": "ce3a90755c214ba8907458e9dee21f01",
       "version_major": 2,
       "version_minor": 0
      },
      "text/plain": [
       "HBox(children=(HTML(value=''), FloatProgress(value=1.0, bar_style='info', layout=Layout(width='20px'), max=1.0…"
      ]
     },
     "metadata": {},
     "output_type": "display_data"
    },
    {
     "name": "stdout",
     "output_type": "stream",
     "text": [
      "Epoch[3/50](100/305) || training loss 0.07844 || training accuracy 97.56% || lr [0.0001]\n",
      "Epoch[3/50](200/305) || training loss 0.08992 || training accuracy 97.06% || lr [0.0001]\n",
      "Epoch[3/50](300/305) || training loss 0.09131 || training accuracy 97.03% || lr [0.0001]\n",
      "\n",
      "Calculating validation results...\n",
      "accuracy by label: [0.89189189 0.93897497 0.78315133]\n",
      "[Val] acc : 91.81%, loss: 0.23 || best acc : 93.31%, best loss:  0.2\n",
      "nan: 0.8918918918918919\n",
      "text: 0.9389749702026222\n",
      "mark: 0.7831513260530422\n",
      "\n"
     ]
    },
    {
     "data": {
      "application/vnd.jupyter.widget-view+json": {
       "model_id": "9a787c905a1f49c080e642d321dbf7d2",
       "version_major": 2,
       "version_minor": 0
      },
      "text/plain": [
       "HBox(children=(HTML(value=''), FloatProgress(value=1.0, bar_style='info', layout=Layout(width='20px'), max=1.0…"
      ]
     },
     "metadata": {},
     "output_type": "display_data"
    },
    {
     "name": "stdout",
     "output_type": "stream",
     "text": [
      "Epoch[4/50](100/305) || training loss 0.05281 || training accuracy 98.28% || lr [0.0001]\n",
      "Epoch[4/50](200/305) || training loss 0.05751 || training accuracy 98.17% || lr [0.0001]\n",
      "Epoch[4/50](300/305) || training loss 0.06205 || training accuracy 97.94% || lr [0.0001]\n",
      "\n",
      "Calculating validation results...\n",
      "New best model for val accuracy! saving the model..\n",
      "accuracy by label: [0.94594595 0.98235995 0.71138846]\n",
      "[Val] acc : 94.64%, loss: 0.19 || best acc : 94.64%, best loss: 0.19\n",
      "nan: 0.9459459459459459\n",
      "text: 0.9823599523241955\n",
      "mark: 0.7113884555382215\n",
      "\n"
     ]
    },
    {
     "data": {
      "application/vnd.jupyter.widget-view+json": {
       "model_id": "121bce56530a4998b038cd0fc707b115",
       "version_major": 2,
       "version_minor": 0
      },
      "text/plain": [
       "HBox(children=(HTML(value=''), FloatProgress(value=1.0, bar_style='info', layout=Layout(width='20px'), max=1.0…"
      ]
     },
     "metadata": {},
     "output_type": "display_data"
    },
    {
     "name": "stdout",
     "output_type": "stream",
     "text": [
      "Epoch[5/50](100/305) || training loss 0.02432 || training accuracy 99.28% || lr [5e-05]\n",
      "Epoch[5/50](200/305) || training loss 0.02618 || training accuracy 99.16% || lr [5e-05]\n",
      "Epoch[5/50](300/305) || training loss 0.02205 || training accuracy 99.33% || lr [5e-05]\n",
      "\n",
      "Calculating validation results...\n",
      "accuracy by label: [0.94594595 0.97830751 0.72854914]\n",
      "[Val] acc : 94.52%, loss: 0.21 || best acc : 94.64%, best loss: 0.19\n",
      "nan: 0.9459459459459459\n",
      "text: 0.9783075089392134\n",
      "mark: 0.7285491419656787\n",
      "\n"
     ]
    },
    {
     "data": {
      "application/vnd.jupyter.widget-view+json": {
       "model_id": "0f12de76b0244417b5812be03a2af57f",
       "version_major": 2,
       "version_minor": 0
      },
      "text/plain": [
       "HBox(children=(HTML(value=''), FloatProgress(value=1.0, bar_style='info', layout=Layout(width='20px'), max=1.0…"
      ]
     },
     "metadata": {},
     "output_type": "display_data"
    },
    {
     "name": "stdout",
     "output_type": "stream",
     "text": [
      "Epoch[6/50](100/305) || training loss 0.007753 || training accuracy 99.81% || lr [5e-05]\n",
      "Epoch[6/50](200/305) || training loss 0.009008 || training accuracy 99.70% || lr [5e-05]\n",
      "Epoch[6/50](300/305) || training loss 0.01511 || training accuracy 99.55% || lr [5e-05]\n",
      "\n",
      "Calculating validation results...\n",
      "accuracy by label: [0.89189189 0.98188319 0.68798752]\n",
      "[Val] acc : 94.25%, loss: 0.26 || best acc : 94.64%, best loss: 0.19\n",
      "nan: 0.8918918918918919\n",
      "text: 0.9818831942789035\n",
      "mark: 0.6879875195007801\n",
      "\n"
     ]
    },
    {
     "data": {
      "application/vnd.jupyter.widget-view+json": {
       "model_id": "0227250b91314b1c92814db3bd2aef59",
       "version_major": 2,
       "version_minor": 0
      },
      "text/plain": [
       "HBox(children=(HTML(value=''), FloatProgress(value=1.0, bar_style='info', layout=Layout(width='20px'), max=1.0…"
      ]
     },
     "metadata": {},
     "output_type": "display_data"
    },
    {
     "name": "stdout",
     "output_type": "stream",
     "text": [
      "Epoch[7/50](200/305) || training loss 0.005292 || training accuracy 99.83% || lr [5e-05]\n",
      "Epoch[7/50](300/305) || training loss 0.0105 || training accuracy 99.72% || lr [5e-05]\n",
      "\n",
      "Calculating validation results...\n",
      "accuracy by label: [0.91891892 0.99022646 0.6474259 ]\n",
      "[Val] acc : 94.46%, loss: 0.29 || best acc : 94.64%, best loss: 0.19\n",
      "nan: 0.918918918918919\n",
      "text: 0.9902264600715137\n",
      "mark: 0.6474258970358814\n",
      "\n"
     ]
    },
    {
     "data": {
      "application/vnd.jupyter.widget-view+json": {
       "model_id": "0f0019c12cab4bf1b23b39a3bea0ad5c",
       "version_major": 2,
       "version_minor": 0
      },
      "text/plain": [
       "HBox(children=(HTML(value=''), FloatProgress(value=1.0, bar_style='info', layout=Layout(width='20px'), max=1.0…"
      ]
     },
     "metadata": {},
     "output_type": "display_data"
    },
    {
     "name": "stdout",
     "output_type": "stream",
     "text": [
      "Epoch[8/50](100/305) || training loss 0.005135 || training accuracy 99.84% || lr [5e-05]\n",
      "Epoch[8/50](200/305) || training loss 0.009141 || training accuracy 99.67% || lr [5e-05]\n",
      "Epoch[8/50](300/305) || training loss 0.01271 || training accuracy 99.55% || lr [5e-05]\n",
      "\n",
      "Calculating validation results...\n",
      "accuracy by label: [0.94594595 0.99022646 0.6349454 ]\n",
      "[Val] acc : 94.32%, loss: 0.29 || best acc : 94.64%, best loss: 0.19\n",
      "nan: 0.9459459459459459\n",
      "text: 0.9902264600715137\n",
      "mark: 0.6349453978159126\n",
      "\n"
     ]
    },
    {
     "data": {
      "application/vnd.jupyter.widget-view+json": {
       "model_id": "d0467f12534b43339c7259e9d22aeca9",
       "version_major": 2,
       "version_minor": 0
      },
      "text/plain": [
       "HBox(children=(HTML(value=''), FloatProgress(value=1.0, bar_style='info', layout=Layout(width='20px'), max=1.0…"
      ]
     },
     "metadata": {},
     "output_type": "display_data"
    },
    {
     "name": "stdout",
     "output_type": "stream",
     "text": [
      "Epoch[9/50](100/305) || training loss 0.008013 || training accuracy 99.80% || lr [5e-05]\n",
      "Epoch[9/50](200/305) || training loss 0.01104 || training accuracy 99.62% || lr [5e-05]\n",
      "Epoch[9/50](300/305) || training loss 0.01394 || training accuracy 99.55% || lr [5e-05]\n",
      "\n",
      "Calculating validation results...\n",
      "accuracy by label: [0.97297297 0.97377831 0.71762871]\n",
      "[Val] acc : 94.01%, loss:  0.3 || best acc : 94.64%, best loss: 0.19\n",
      "nan: 0.972972972972973\n",
      "text: 0.9737783075089392\n",
      "mark: 0.717628705148206\n",
      "\n"
     ]
    },
    {
     "data": {
      "application/vnd.jupyter.widget-view+json": {
       "model_id": "cb86b8d076f040f9b4382df24be2fa31",
       "version_major": 2,
       "version_minor": 0
      },
      "text/plain": [
       "HBox(children=(HTML(value=''), FloatProgress(value=1.0, bar_style='info', layout=Layout(width='20px'), max=1.0…"
      ]
     },
     "metadata": {},
     "output_type": "display_data"
    },
    {
     "name": "stdout",
     "output_type": "stream",
     "text": [
      "Epoch[10/50](100/305) || training loss 0.008111 || training accuracy 99.77% || lr [2.5e-05]\n",
      "Epoch[10/50](200/305) || training loss 0.002292 || training accuracy 99.97% || lr [2.5e-05]\n",
      "Epoch[10/50](300/305) || training loss 0.003435 || training accuracy 99.88% || lr [2.5e-05]\n",
      "\n",
      "Calculating validation results...\n",
      "New best model for val accuracy! saving the model..\n",
      "accuracy by label: [0.91891892 0.98212157 0.72074883]\n",
      "[Val] acc : 94.73%, loss: 0.28 || best acc : 94.73%, best loss: 0.19\n",
      "nan: 0.918918918918919\n",
      "text: 0.9821215733015495\n",
      "mark: 0.7207488299531981\n",
      "\n"
     ]
    },
    {
     "data": {
      "application/vnd.jupyter.widget-view+json": {
       "model_id": "105a1fa1d36944959f64931da0e9c9fa",
       "version_major": 2,
       "version_minor": 0
      },
      "text/plain": [
       "HBox(children=(HTML(value=''), FloatProgress(value=1.0, bar_style='info', layout=Layout(width='20px'), max=1.0…"
      ]
     },
     "metadata": {},
     "output_type": "display_data"
    },
    {
     "name": "stdout",
     "output_type": "stream",
     "text": [
      "Epoch[11/50](100/305) || training loss 0.001587 || training accuracy 99.97% || lr [2.5e-05]\n",
      "Epoch[11/50](200/305) || training loss 0.001287 || training accuracy 99.97% || lr [2.5e-05]\n",
      "Epoch[11/50](300/305) || training loss 0.0005341 || training accuracy 100.00% || lr [2.5e-05]\n",
      "\n",
      "Calculating validation results...\n",
      "New best model for val accuracy! saving the model..\n",
      "accuracy by label: [0.94594595 0.98331347 0.71762871]\n",
      "[Val] acc : 94.81%, loss: 0.31 || best acc : 94.81%, best loss: 0.19\n",
      "nan: 0.9459459459459459\n",
      "text: 0.9833134684147795\n",
      "mark: 0.717628705148206\n",
      "\n"
     ]
    },
    {
     "data": {
      "application/vnd.jupyter.widget-view+json": {
       "model_id": "11068d22b7bf4e7f9ae4417a9c582a51",
       "version_major": 2,
       "version_minor": 0
      },
      "text/plain": [
       "HBox(children=(HTML(value=''), FloatProgress(value=1.0, bar_style='info', layout=Layout(width='20px'), max=1.0…"
      ]
     },
     "metadata": {},
     "output_type": "display_data"
    },
    {
     "name": "stdout",
     "output_type": "stream",
     "text": [
      "Epoch[12/50](100/305) || training loss 0.0003836 || training accuracy 100.00% || lr [2.5e-05]\n",
      "Epoch[12/50](200/305) || training loss 0.0005905 || training accuracy 99.98% || lr [2.5e-05]\n",
      "Epoch[12/50](300/305) || training loss 0.0005546 || training accuracy 99.98% || lr [2.5e-05]\n",
      "\n",
      "Calculating validation results...\n",
      "accuracy by label: [0.94594595 0.97401669 0.74414977]\n",
      "[Val] acc : 94.36%, loss: 0.33 || best acc : 94.81%, best loss: 0.19\n",
      "nan: 0.9459459459459459\n",
      "text: 0.9740166865315852\n",
      "mark: 0.7441497659906396\n",
      "\n"
     ]
    },
    {
     "data": {
      "application/vnd.jupyter.widget-view+json": {
       "model_id": "763af28293ea47b0bba7aaca3dcd5aae",
       "version_major": 2,
       "version_minor": 0
      },
      "text/plain": [
       "HBox(children=(HTML(value=''), FloatProgress(value=1.0, bar_style='info', layout=Layout(width='20px'), max=1.0…"
      ]
     },
     "metadata": {},
     "output_type": "display_data"
    },
    {
     "name": "stdout",
     "output_type": "stream",
     "text": [
      "Epoch[13/50](200/305) || training loss 0.0007422 || training accuracy 99.98% || lr [2.5e-05]\n",
      "Epoch[13/50](300/305) || training loss 0.0003687 || training accuracy 100.00% || lr [2.5e-05]\n",
      "\n",
      "Calculating validation results...\n",
      "accuracy by label: [0.94594595 0.98617402 0.69578783]\n",
      "[Val] acc : 94.77%, loss: 0.34 || best acc : 94.81%, best loss: 0.19\n",
      "nan: 0.9459459459459459\n",
      "text: 0.9861740166865316\n",
      "mark: 0.6957878315132605\n",
      "\n"
     ]
    },
    {
     "data": {
      "application/vnd.jupyter.widget-view+json": {
       "model_id": "d5be829218784667b31c9fe971e659d7",
       "version_major": 2,
       "version_minor": 0
      },
      "text/plain": [
       "HBox(children=(HTML(value=''), FloatProgress(value=1.0, bar_style='info', layout=Layout(width='20px'), max=1.0…"
      ]
     },
     "metadata": {},
     "output_type": "display_data"
    },
    {
     "name": "stdout",
     "output_type": "stream",
     "text": [
      "Epoch[14/50](100/305) || training loss 0.0003052 || training accuracy 100.00% || lr [2.5e-05]\n",
      "Epoch[14/50](200/305) || training loss 0.001654 || training accuracy 99.97% || lr [2.5e-05]\n",
      "Epoch[14/50](300/305) || training loss 0.0002446 || training accuracy 100.00% || lr [2.5e-05]\n",
      "\n",
      "Calculating validation results...\n",
      "New best model for val accuracy! saving the model..\n",
      "accuracy by label: [0.94594595 0.98569726 0.70514821]\n",
      "[Val] acc : 94.85%, loss: 0.34 || best acc : 94.85%, best loss: 0.19\n",
      "nan: 0.9459459459459459\n",
      "text: 0.9856972586412396\n",
      "mark: 0.7051482059282371\n",
      "\n"
     ]
    },
    {
     "data": {
      "application/vnd.jupyter.widget-view+json": {
       "model_id": "965c85e8726244fc86152cc77f913a0d",
       "version_major": 2,
       "version_minor": 0
      },
      "text/plain": [
       "HBox(children=(HTML(value=''), FloatProgress(value=1.0, bar_style='info', layout=Layout(width='20px'), max=1.0…"
      ]
     },
     "metadata": {},
     "output_type": "display_data"
    },
    {
     "name": "stdout",
     "output_type": "stream",
     "text": [
      "Epoch[15/50](100/305) || training loss 0.0002614 || training accuracy 100.00% || lr [1.25e-05]\n",
      "Epoch[15/50](200/305) || training loss 0.0002046 || training accuracy 100.00% || lr [1.25e-05]\n",
      "Epoch[15/50](300/305) || training loss 0.0003056 || training accuracy 100.00% || lr [1.25e-05]\n",
      "\n",
      "Calculating validation results...\n",
      "accuracy by label: [0.94594595 0.98164482 0.73166927]\n",
      "[Val] acc : 94.85%, loss: 0.33 || best acc : 94.85%, best loss: 0.19\n",
      "nan: 0.9459459459459459\n",
      "text: 0.9816448152562575\n",
      "mark: 0.7316692667706708\n",
      "\n"
     ]
    },
    {
     "data": {
      "application/vnd.jupyter.widget-view+json": {
       "model_id": "3c038a74a8f84d7382073bdbee0644eb",
       "version_major": 2,
       "version_minor": 0
      },
      "text/plain": [
       "HBox(children=(HTML(value=''), FloatProgress(value=1.0, bar_style='info', layout=Layout(width='20px'), max=1.0…"
      ]
     },
     "metadata": {},
     "output_type": "display_data"
    },
    {
     "name": "stdout",
     "output_type": "stream",
     "text": [
      "Epoch[16/50](100/305) || training loss 0.0002211 || training accuracy 100.00% || lr [1.25e-05]\n",
      "Epoch[16/50](200/305) || training loss 0.0002435 || training accuracy 100.00% || lr [1.25e-05]\n",
      "Epoch[16/50](300/305) || training loss 0.0001651 || training accuracy 100.00% || lr [1.25e-05]\n",
      "\n",
      "Calculating validation results...\n",
      "New best model for val accuracy! saving the model..\n",
      "accuracy by label: [0.94594595 0.98665077 0.71138846]\n",
      "[Val] acc : 95.01%, loss: 0.34 || best acc : 95.01%, best loss: 0.19\n",
      "nan: 0.9459459459459459\n",
      "text: 0.9866507747318236\n",
      "mark: 0.7113884555382215\n",
      "\n"
     ]
    },
    {
     "data": {
      "application/vnd.jupyter.widget-view+json": {
       "model_id": "33a8950bf5d84ce5b9c896bf10ecc63a",
       "version_major": 2,
       "version_minor": 0
      },
      "text/plain": [
       "HBox(children=(HTML(value=''), FloatProgress(value=1.0, bar_style='info', layout=Layout(width='20px'), max=1.0…"
      ]
     },
     "metadata": {},
     "output_type": "display_data"
    },
    {
     "name": "stdout",
     "output_type": "stream",
     "text": [
      "Epoch[17/50](100/305) || training loss 0.0001604 || training accuracy 100.00% || lr [1.25e-05]\n",
      "Epoch[17/50](200/305) || training loss 0.0001593 || training accuracy 100.00% || lr [1.25e-05]\n",
      "Epoch[17/50](300/305) || training loss 0.0001505 || training accuracy 100.00% || lr [1.25e-05]\n",
      "\n",
      "Calculating validation results...\n",
      "New best model for val accuracy! saving the model..\n",
      "accuracy by label: [0.97297297 0.98688915 0.71294852]\n",
      "[Val] acc : 95.07%, loss: 0.34 || best acc : 95.07%, best loss: 0.19\n",
      "nan: 0.972972972972973\n",
      "text: 0.9868891537544696\n",
      "mark: 0.7129485179407177\n",
      "\n"
     ]
    },
    {
     "data": {
      "application/vnd.jupyter.widget-view+json": {
       "model_id": "2b79f30e7e3c4c6685d358cd046f9f88",
       "version_major": 2,
       "version_minor": 0
      },
      "text/plain": [
       "HBox(children=(HTML(value=''), FloatProgress(value=1.0, bar_style='info', layout=Layout(width='20px'), max=1.0…"
      ]
     },
     "metadata": {},
     "output_type": "display_data"
    },
    {
     "name": "stdout",
     "output_type": "stream",
     "text": [
      "Epoch[18/50](100/305) || training loss 0.0001588 || training accuracy 100.00% || lr [1.25e-05]\n",
      "Epoch[18/50](200/305) || training loss 0.000156 || training accuracy 100.00% || lr [1.25e-05]\n",
      "Epoch[18/50](300/305) || training loss 0.0001199 || training accuracy 100.00% || lr [1.25e-05]\n",
      "\n",
      "Calculating validation results...\n",
      "accuracy by label: [0.94594595 0.9864124  0.71294852]\n",
      "[Val] acc : 95.01%, loss: 0.35 || best acc : 95.07%, best loss: 0.19\n",
      "nan: 0.9459459459459459\n",
      "text: 0.9864123957091776\n",
      "mark: 0.7129485179407177\n",
      "\n"
     ]
    },
    {
     "data": {
      "application/vnd.jupyter.widget-view+json": {
       "model_id": "9a013d8c0135469e9701f31198a8c1b9",
       "version_major": 2,
       "version_minor": 0
      },
      "text/plain": [
       "HBox(children=(HTML(value=''), FloatProgress(value=1.0, bar_style='info', layout=Layout(width='20px'), max=1.0…"
      ]
     },
     "metadata": {},
     "output_type": "display_data"
    },
    {
     "name": "stdout",
     "output_type": "stream",
     "text": [
      "Epoch[19/50](100/305) || training loss 0.0001081 || training accuracy 100.00% || lr [1.25e-05]\n",
      "Epoch[19/50](200/305) || training loss 0.0001353 || training accuracy 100.00% || lr [1.25e-05]\n",
      "Epoch[19/50](300/305) || training loss 9.97e-05 || training accuracy 100.00% || lr [1.25e-05]\n",
      "\n",
      "Calculating validation results...\n",
      "accuracy by label: [0.94594595 0.98688915 0.70670827]\n",
      "[Val] acc : 94.97%, loss: 0.36 || best acc : 95.07%, best loss: 0.19\n",
      "nan: 0.9459459459459459\n",
      "text: 0.9868891537544696\n",
      "mark: 0.7067082683307332\n",
      "\n"
     ]
    },
    {
     "data": {
      "application/vnd.jupyter.widget-view+json": {
       "model_id": "b62bbca153f045b9a81d1ecab6af0247",
       "version_major": 2,
       "version_minor": 0
      },
      "text/plain": [
       "HBox(children=(HTML(value=''), FloatProgress(value=1.0, bar_style='info', layout=Layout(width='20px'), max=1.0…"
      ]
     },
     "metadata": {},
     "output_type": "display_data"
    },
    {
     "name": "stdout",
     "output_type": "stream",
     "text": [
      "Epoch[20/50](100/305) || training loss 0.0001184 || training accuracy 100.00% || lr [6.25e-06]\n",
      "Epoch[20/50](200/305) || training loss 0.000128 || training accuracy 100.00% || lr [6.25e-06]\n",
      "Epoch[20/50](300/305) || training loss 0.0001042 || training accuracy 100.00% || lr [6.25e-06]\n",
      "\n",
      "Calculating validation results...\n",
      "accuracy by label: [0.94594595 0.98712753 0.70670827]\n",
      "[Val] acc : 94.99%, loss: 0.36 || best acc : 95.07%, best loss: 0.19\n",
      "nan: 0.9459459459459459\n",
      "text: 0.9871275327771156\n",
      "mark: 0.7067082683307332\n",
      "\n"
     ]
    },
    {
     "data": {
      "application/vnd.jupyter.widget-view+json": {
       "model_id": "c1e518abd5414094afd76d7fc942ba9f",
       "version_major": 2,
       "version_minor": 0
      },
      "text/plain": [
       "HBox(children=(HTML(value=''), FloatProgress(value=1.0, bar_style='info', layout=Layout(width='20px'), max=1.0…"
      ]
     },
     "metadata": {},
     "output_type": "display_data"
    },
    {
     "name": "stdout",
     "output_type": "stream",
     "text": [
      "Epoch[21/50](100/305) || training loss 0.0001284 || training accuracy 100.00% || lr [6.25e-06]\n",
      "Epoch[21/50](200/305) || training loss 0.0001087 || training accuracy 100.00% || lr [6.25e-06]\n",
      "accuracy by label: [0.97297297 0.98736591 0.70826833]\n",
      "[Val] acc : 95.05%, loss: 0.36 || best acc : 95.07%, best loss: 0.19\n",
      "nan: 0.972972972972973\n",
      "text: 0.9873659117997616\n",
      "mark: 0.7082683307332294\n",
      "\n"
     ]
    },
    {
     "data": {
      "application/vnd.jupyter.widget-view+json": {
       "model_id": "9b6ebffa641c4c799263c33411dfd9c9",
       "version_major": 2,
       "version_minor": 0
      },
      "text/plain": [
       "HBox(children=(HTML(value=''), FloatProgress(value=1.0, bar_style='info', layout=Layout(width='20px'), max=1.0…"
      ]
     },
     "metadata": {},
     "output_type": "display_data"
    },
    {
     "name": "stdout",
     "output_type": "stream",
     "text": [
      "Epoch[22/50](100/305) || training loss 9.736e-05 || training accuracy 100.00% || lr [6.25e-06]\n",
      "Epoch[22/50](200/305) || training loss 0.0001311 || training accuracy 100.00% || lr [6.25e-06]\n",
      "Epoch[22/50](300/305) || training loss 0.0001192 || training accuracy 100.00% || lr [6.25e-06]\n",
      "\n",
      "Calculating validation results...\n",
      "accuracy by label: [0.94594595 0.98712753 0.70826833]\n",
      "[Val] acc : 95.01%, loss: 0.36 || best acc : 95.07%, best loss: 0.19\n",
      "nan: 0.9459459459459459\n",
      "text: 0.9871275327771156\n",
      "mark: 0.7082683307332294\n",
      "\n"
     ]
    },
    {
     "data": {
      "application/vnd.jupyter.widget-view+json": {
       "model_id": "565f8bc466c442849fb8fadbb424435d",
       "version_major": 2,
       "version_minor": 0
      },
      "text/plain": [
       "HBox(children=(HTML(value=''), FloatProgress(value=1.0, bar_style='info', layout=Layout(width='20px'), max=1.0…"
      ]
     },
     "metadata": {},
     "output_type": "display_data"
    },
    {
     "name": "stdout",
     "output_type": "stream",
     "text": [
      "Epoch[23/50](100/305) || training loss 0.0001174 || training accuracy 100.00% || lr [6.25e-06]\n",
      "Epoch[23/50](200/305) || training loss 8.677e-05 || training accuracy 100.00% || lr [6.25e-06]\n",
      "Epoch[23/50](300/305) || training loss 0.0001036 || training accuracy 100.00% || lr [6.25e-06]\n",
      "\n",
      "Calculating validation results...\n",
      "accuracy by label: [0.94594595 0.98593564 0.72074883]\n",
      "[Val] acc : 95.07%, loss: 0.36 || best acc : 95.07%, best loss: 0.19\n",
      "nan: 0.9459459459459459\n",
      "text: 0.9859356376638856\n",
      "mark: 0.7207488299531981\n",
      "\n"
     ]
    },
    {
     "data": {
      "application/vnd.jupyter.widget-view+json": {
       "model_id": "3a880bf6ca8646409db6f0c963c1c310",
       "version_major": 2,
       "version_minor": 0
      },
      "text/plain": [
       "HBox(children=(HTML(value=''), FloatProgress(value=1.0, bar_style='info', layout=Layout(width='20px'), max=1.0…"
      ]
     },
     "metadata": {},
     "output_type": "display_data"
    },
    {
     "name": "stdout",
     "output_type": "stream",
     "text": [
      "Epoch[24/50](100/305) || training loss 9.527e-05 || training accuracy 100.00% || lr [6.25e-06]\n",
      "Epoch[24/50](200/305) || training loss 0.0006578 || training accuracy 99.97% || lr [6.25e-06]\n",
      "Epoch[24/50](300/305) || training loss 0.0001112 || training accuracy 100.00% || lr [6.25e-06]\n",
      "\n",
      "Calculating validation results...\n",
      "accuracy by label: [0.94594595 0.98450536 0.72542902]\n",
      "[Val] acc : 95.01%, loss: 0.36 || best acc : 95.07%, best loss: 0.19\n",
      "nan: 0.9459459459459459\n",
      "text: 0.9845053635280095\n",
      "mark: 0.7254290171606864\n",
      "\n"
     ]
    },
    {
     "data": {
      "application/vnd.jupyter.widget-view+json": {
       "model_id": "0ee3c35ecbe1463fbb17cb418c64d352",
       "version_major": 2,
       "version_minor": 0
      },
      "text/plain": [
       "HBox(children=(HTML(value=''), FloatProgress(value=1.0, bar_style='info', layout=Layout(width='20px'), max=1.0…"
      ]
     },
     "metadata": {},
     "output_type": "display_data"
    },
    {
     "name": "stdout",
     "output_type": "stream",
     "text": [
      "Epoch[25/50](100/305) || training loss 0.0001268 || training accuracy 100.00% || lr [3.125e-06]\n",
      "Epoch[25/50](200/305) || training loss 0.0001783 || training accuracy 100.00% || lr [3.125e-06]\n",
      "Epoch[25/50](300/305) || training loss 0.0002408 || training accuracy 99.98% || lr [3.125e-06]\n",
      "\n",
      "Calculating validation results...\n",
      "accuracy by label: [0.94594595 0.9864124  0.70826833]\n",
      "[Val] acc : 94.95%, loss: 0.37 || best acc : 95.07%, best loss: 0.19\n",
      "nan: 0.9459459459459459\n",
      "text: 0.9864123957091776\n",
      "mark: 0.7082683307332294\n",
      "\n"
     ]
    },
    {
     "data": {
      "application/vnd.jupyter.widget-view+json": {
       "model_id": "0dafa97b9b454b82a4de3a6931302755",
       "version_major": 2,
       "version_minor": 0
      },
      "text/plain": [
       "HBox(children=(HTML(value=''), FloatProgress(value=1.0, bar_style='info', layout=Layout(width='20px'), max=1.0…"
      ]
     },
     "metadata": {},
     "output_type": "display_data"
    },
    {
     "name": "stdout",
     "output_type": "stream",
     "text": [
      "Epoch[26/50](100/305) || training loss 0.0001325 || training accuracy 100.00% || lr [3.125e-06]\n",
      "Epoch[26/50](200/305) || training loss 9.265e-05 || training accuracy 100.00% || lr [3.125e-06]\n",
      "Epoch[26/50](300/305) || training loss 8.091e-05 || training accuracy 100.00% || lr [3.125e-06]\n",
      "\n",
      "Calculating validation results...\n",
      "accuracy by label: [0.94594595 0.98569726 0.71762871]\n",
      "[Val] acc : 95.01%, loss: 0.37 || best acc : 95.07%, best loss: 0.19\n",
      "nan: 0.9459459459459459\n",
      "text: 0.9856972586412396\n",
      "mark: 0.717628705148206\n",
      "\n"
     ]
    },
    {
     "data": {
      "application/vnd.jupyter.widget-view+json": {
       "model_id": "1b7a23c9584549899799fcad13eae054",
       "version_major": 2,
       "version_minor": 0
      },
      "text/plain": [
       "HBox(children=(HTML(value=''), FloatProgress(value=1.0, bar_style='info', layout=Layout(width='20px'), max=1.0…"
      ]
     },
     "metadata": {},
     "output_type": "display_data"
    },
    {
     "name": "stdout",
     "output_type": "stream",
     "text": [
      "Epoch[27/50](100/305) || training loss 9.278e-05 || training accuracy 100.00% || lr [3.125e-06]\n",
      "Epoch[27/50](200/305) || training loss 8.62e-05 || training accuracy 100.00% || lr [3.125e-06]\n",
      "Epoch[27/50](300/305) || training loss 7.553e-05 || training accuracy 100.00% || lr [3.125e-06]\n",
      "\n",
      "Calculating validation results...\n",
      "accuracy by label: [0.94594595 0.98712753 0.70826833]\n",
      "[Val] acc : 95.01%, loss: 0.37 || best acc : 95.07%, best loss: 0.19\n",
      "nan: 0.9459459459459459\n",
      "text: 0.9871275327771156\n",
      "mark: 0.7082683307332294\n",
      "\n"
     ]
    },
    {
     "data": {
      "application/vnd.jupyter.widget-view+json": {
       "model_id": "82ad30c6d01e465eaced8f17d66abbff",
       "version_major": 2,
       "version_minor": 0
      },
      "text/plain": [
       "HBox(children=(HTML(value=''), FloatProgress(value=1.0, bar_style='info', layout=Layout(width='20px'), max=1.0…"
      ]
     },
     "metadata": {},
     "output_type": "display_data"
    },
    {
     "name": "stdout",
     "output_type": "stream",
     "text": [
      "Epoch[28/50](100/305) || training loss 8.94e-05 || training accuracy 100.00% || lr [3.125e-06]\n",
      "Epoch[28/50](200/305) || training loss 9.193e-05 || training accuracy 100.00% || lr [3.125e-06]\n",
      "Epoch[28/50](300/305) || training loss 8.95e-05 || training accuracy 100.00% || lr [3.125e-06]\n",
      "\n",
      "Calculating validation results...\n",
      "Early Stopping...\n"
     ]
    }
   ],
   "source": [
    "import wandb\n",
    "wandb.init(project=\"final-project\", entity=\"medic\", name=f\"KM_{model_name}_text_mark_nan\")\n",
    "\n",
    "name = f'{model_name}_type_and_shape'\n",
    "os.makedirs(os.path.join(os.getcwd(), 'results', name), exist_ok=True)\n",
    "\n",
    "counter = 0\n",
    "best_val_acc = 0\n",
    "best_val_loss = np.inf\n",
    "\n",
    "for epoch in range(num_epochs):\n",
    "    # train loop\n",
    "    model.train()\n",
    "    loss_value = 0\n",
    "    matches = 0\n",
    "    for idx, train_batch in tqdm(enumerate(train_loader)):\n",
    "        inputs, labels = train_batch\n",
    "        inputs = inputs.to(device)\n",
    "        labels = labels.to(device)\n",
    "\n",
    "        outs = model(inputs)\n",
    "        preds = torch.argmax(outs, dim=-1)\n",
    "        loss = criterion(outs, labels)\n",
    "\n",
    "        loss.backward()\n",
    "        \n",
    "        # -- Gradient Accumulation\n",
    "        if (idx+1) % accumulation_steps == 0:\n",
    "            optimizer.step()\n",
    "            optimizer.zero_grad()\n",
    "\n",
    "        loss_value += loss.item()\n",
    "        matches += (preds == labels).sum().item()\n",
    "        if (idx + 1) % train_log_interval == 0:\n",
    "            train_loss = loss_value / train_log_interval\n",
    "            train_acc = matches / batch_size / train_log_interval\n",
    "            current_lr = scheduler.get_last_lr()\n",
    "            print(\n",
    "                f\"Epoch[{epoch}/{num_epochs}]({idx + 1}/{len(train_loader)}) || \"\n",
    "                f\"training loss {train_loss:4.4} || training accuracy {train_acc:4.2%} || lr {current_lr}\"\n",
    "            )\n",
    "\n",
    "            loss_value = 0\n",
    "            matches = 0\n",
    "            \n",
    "    scheduler.step()\n",
    "\n",
    "    # val loop\n",
    "    with torch.no_grad():\n",
    "        print(\"Calculating validation results...\")\n",
    "        model.eval()\n",
    "        val_loss_items = []\n",
    "        val_acc_items = []\n",
    "        label_accuracy, total_label = [0]*num_classes, [0]*num_classes\n",
    "        for val_batch in val_loader:\n",
    "            inputs, labels = val_batch\n",
    "            inputs = inputs.to(device)\n",
    "            labels = labels.to(device)\n",
    "\n",
    "            outs = model(inputs)\n",
    "            preds = torch.argmax(outs, dim=-1)\n",
    "\n",
    "            loss_item = criterion(outs, labels).item()\n",
    "            acc_item = (labels == preds).sum().item()\n",
    "            val_loss_items.append(loss_item)\n",
    "            val_acc_items.append(acc_item)\n",
    "            \n",
    "            ## label별 accuracy\n",
    "            for i in range(len(labels)):\n",
    "                total_label[int(labels[i])] += 1\n",
    "                if labels[i] == preds[i]:\n",
    "                    label_accuracy[int(labels[i])] += 1\n",
    "            \n",
    "\n",
    "        val_loss = np.sum(val_loss_items) / len(val_loader)\n",
    "        val_acc = np.sum(val_acc_items) / len(val_df)\n",
    "        \n",
    "        # Callback1: validation accuracy가 향상될수록 모델을 저장합니다.\n",
    "        if val_loss < best_val_loss:\n",
    "            best_val_loss = val_loss\n",
    "        if val_acc > best_val_acc:\n",
    "            print(\"New best model for val accuracy! saving the model..\")\n",
    "            torch.save(model.state_dict(), f\"results/{name}/best.ckpt\")\n",
    "            best_val_acc = val_acc\n",
    "            counter = 0\n",
    "        else:\n",
    "            counter += 1\n",
    "        # Callback2: patience 횟수 동안 성능 향상이 없을 경우 학습을 종료시킵니다.\n",
    "        if counter > patience:\n",
    "            print(\"Early Stopping...\")\n",
    "            break\n",
    "        \n",
    "        ## 파이썬 배열 나눗셈 https://bearwoong.tistory.com/60\n",
    "        accuracy_by_label = np.array(label_accuracy)/np.array(total_label)\n",
    "        print(f\"accuracy by label: {accuracy_by_label}\")\n",
    "        \n",
    "        print(\n",
    "            f\"[Val] acc : {val_acc:4.2%}, loss: {val_loss:4.2} || \"\n",
    "            f\"best acc : {best_val_acc:4.2%}, best loss: {best_val_loss:4.2}\"\n",
    "        )\n",
    "        \n",
    "        print(\n",
    "            f\"nan: {accuracy_by_label[0]}\\n\"\n",
    "            f\"text: {accuracy_by_label[1]}\\n\"\n",
    "            f\"mark: {accuracy_by_label[2]}\\n\"\n",
    "        )\n",
    "\n",
    "    wandb.log({\n",
    "        \"train_loss\": train_loss,\n",
    "        \"train_accuracy\": train_acc,\n",
    "        \"valid_loss\": val_loss,\n",
    "        \"valid_accuracy\": val_acc,\n",
    "        \"best_loss\": best_val_loss,\n",
    "        \"best_accuracy\": best_val_acc,\n",
    "        \"nan\": accuracy_by_label[0],\n",
    "        \"text\": accuracy_by_label[1],\n",
    "        \"mark\": accuracy_by_label[2],\n",
    "    })"
   ]
  },
  {
   "cell_type": "code",
   "execution_count": 25,
   "metadata": {},
   "outputs": [],
   "source": [
    "class CustomTestDataset(Dataset):\n",
    "    def __init__(self, df, transform=None):\n",
    "        super().__init__()\n",
    "        self.df = df.reset_index()\n",
    "        self.image_id = self.df['품목일련번호']\n",
    "        self.transform = transform\n",
    "    \n",
    "    def __len__(self):\n",
    "        return len(self.df)\n",
    "\n",
    "    def __getitem__(self,idx):\n",
    "        image_id = self.image_id[idx]\n",
    "        image_path = f'/opt/ml/final-project-level3-cv-16/test_data/{image_id}'\n",
    "        image = Image.open(image_path)\n",
    "        if self.transform:\n",
    "            image = self.transform(image)\n",
    "        \n",
    "        return image"
   ]
  },
  {
   "cell_type": "code",
   "execution_count": 26,
   "metadata": {},
   "outputs": [],
   "source": [
    "test_batch_size = 1"
   ]
  },
  {
   "cell_type": "code",
   "execution_count": 27,
   "metadata": {},
   "outputs": [],
   "source": [
    "image_dir = './test_data'\n",
    "test_list = os.listdir(image_dir)\n",
    "test_list = sorted(test_list)"
   ]
  },
  {
   "cell_type": "code",
   "execution_count": 28,
   "metadata": {},
   "outputs": [],
   "source": [
    "test_df = pd.DataFrame(test_list)\n",
    "test_df.columns = ['품목일련번호']"
   ]
  },
  {
   "cell_type": "code",
   "execution_count": 29,
   "metadata": {},
   "outputs": [],
   "source": [
    "transform = transforms.Compose([\n",
    "    transforms.Resize((224,224)),\n",
    "    transforms.ToTensor(),\n",
    "    transforms.Normalize(\n",
    "        [0.485, 0.456, 0.406],\n",
    "        [0.229, 0.224, 0.225]\n",
    "    )\n",
    "])\n",
    "\n",
    "test_dataset = CustomTestDataset(test_df, transform=transform)"
   ]
  },
  {
   "cell_type": "code",
   "execution_count": 30,
   "metadata": {},
   "outputs": [
    {
     "data": {
      "text/plain": [
       "tensor([[[1.2043, 1.1700, 1.1358,  ..., 0.2967, 0.2282, 0.3138],\n",
       "         [1.2214, 1.1015, 1.1872,  ..., 0.1768, 0.1597, 0.2453],\n",
       "         [1.1358, 1.1187, 1.1358,  ..., 0.2282, 0.2796, 0.2796],\n",
       "         ...,\n",
       "         [0.6392, 0.6221, 0.5878,  ..., 0.6734, 0.5707, 0.6221],\n",
       "         [0.4508, 0.4508, 0.5022,  ..., 0.7077, 0.7933, 0.7591],\n",
       "         [0.5022, 0.5364, 0.5022,  ..., 0.6906, 0.7933, 0.7933]],\n",
       "\n",
       "        [[1.4307, 1.3782, 1.3431,  ..., 0.3452, 0.2402, 0.3803],\n",
       "         [1.4482, 1.3256, 1.4132,  ..., 0.2052, 0.1877, 0.2927],\n",
       "         [1.3431, 1.3081, 1.3431,  ..., 0.2927, 0.3277, 0.3277],\n",
       "         ...,\n",
       "         [0.7129, 0.6779, 0.6429,  ..., 0.7654, 0.6429, 0.6954],\n",
       "         [0.4853, 0.4853, 0.5378,  ..., 0.8179, 0.9230, 0.8880],\n",
       "         [0.5553, 0.5728, 0.5203,  ..., 0.8004, 0.9230, 0.9230]],\n",
       "\n",
       "        [[1.5245, 1.5071, 1.4548,  ..., 0.4439, 0.3219, 0.4439],\n",
       "         [1.5768, 1.4374, 1.5420,  ..., 0.3045, 0.2696, 0.3742],\n",
       "         [1.4722, 1.4374, 1.4722,  ..., 0.3742, 0.4091, 0.4091],\n",
       "         ...,\n",
       "         [0.8797, 0.8448, 0.7925,  ..., 0.8797, 0.7751, 0.8099],\n",
       "         [0.6182, 0.6356, 0.6879,  ..., 0.9668, 1.0714, 1.0365],\n",
       "         [0.7054, 0.7228, 0.6879,  ..., 0.9494, 1.0539, 1.0714]]])"
      ]
     },
     "execution_count": 30,
     "metadata": {},
     "output_type": "execute_result"
    }
   ],
   "source": [
    "image = next(iter(test_dataset))\n",
    "image"
   ]
  },
  {
   "cell_type": "code",
   "execution_count": 31,
   "metadata": {},
   "outputs": [],
   "source": [
    "test_loader = DataLoader(test_dataset, shuffle=False, batch_size=test_batch_size)"
   ]
  },
  {
   "cell_type": "code",
   "execution_count": 32,
   "metadata": {},
   "outputs": [
    {
     "data": {
      "text/plain": [
       "<All keys matched successfully>"
      ]
     },
     "execution_count": 32,
     "metadata": {},
     "output_type": "execute_result"
    }
   ],
   "source": [
    "model = timm.create_model('resnet50', pretrained=True, num_classes=num_classes)\n",
    "\n",
    "device = torch.device(\"cuda:0\" if torch.cuda.is_available() else \"cpu\") \n",
    "model.to(device) \n",
    "\n",
    "PATH = f\"./results/{name}/best.ckpt\"\n",
    "model.load_state_dict(torch.load(PATH, map_location=device))"
   ]
  },
  {
   "cell_type": "code",
   "execution_count": 33,
   "metadata": {},
   "outputs": [],
   "source": [
    "answer= ['nan', 'text', 'mark']"
   ]
  },
  {
   "cell_type": "code",
   "execution_count": 34,
   "metadata": {},
   "outputs": [
    {
     "name": "stdout",
     "output_type": "stream",
     "text": [
      "Calculating validation results...\n",
      "mark\n",
      "mark\n",
      "mark\n",
      "nan\n",
      "mark\n",
      "mark\n",
      "mark\n",
      "mark\n",
      "mark\n",
      "nan\n",
      "text\n",
      "nan\n",
      "mark\n",
      "mark\n",
      "mark\n",
      "text\n",
      "nan\n",
      "mark\n",
      "nan\n",
      "nan\n",
      "mark\n",
      "text\n",
      "nan\n",
      "nan\n",
      "mark\n",
      "mark\n",
      "mark\n",
      "mark\n",
      "text\n",
      "text\n",
      "text\n",
      "text\n",
      "mark\n"
     ]
    }
   ],
   "source": [
    "# val loop\n",
    "with torch.no_grad():\n",
    "    print(\"Calculating validation results...\")\n",
    "    model.eval()\n",
    "    val_loss_items = []\n",
    "    val_acc_items = []\n",
    "    for val_batch in test_loader:\n",
    "        inputs = val_batch\n",
    "        inputs = inputs.to(device)\n",
    "\n",
    "        outs = model(inputs)\n",
    "        preds = torch.argmax(outs, dim=-1)\n",
    "        \n",
    "        print(answer[int(preds)])     "
   ]
  },
  {
   "cell_type": "code",
   "execution_count": null,
   "metadata": {},
   "outputs": [],
   "source": []
  }
 ],
 "metadata": {
  "interpreter": {
   "hash": "d4d1e4263499bec80672ea0156c357c1ee493ec2b1c70f0acce89fc37c4a6abe"
  },
  "kernelspec": {
   "display_name": "Python 3 (ipykernel)",
   "language": "python",
   "name": "python3"
  },
  "language_info": {
   "codemirror_mode": {
    "name": "ipython",
    "version": 3
   },
   "file_extension": ".py",
   "mimetype": "text/x-python",
   "name": "python",
   "nbconvert_exporter": "python",
   "pygments_lexer": "ipython3",
   "version": "3.8.5"
  }
 },
 "nbformat": 4,
 "nbformat_minor": 4
}

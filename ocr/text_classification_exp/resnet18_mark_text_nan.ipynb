{
 "cells": [
  {
   "cell_type": "markdown",
   "metadata": {},
   "source": [
    "## Import Library"
   ]
  },
  {
   "cell_type": "code",
   "execution_count": 1,
   "metadata": {},
   "outputs": [],
   "source": [
    "import os\n",
    "import cv2\n",
    "import pandas as pd\n",
    "import numpy as np\n",
    "import math\n",
    "import timm\n",
    "import yaml\n",
    "import random\n",
    "import torch\n",
    "import torch.nn as nn\n",
    "import albumentations\n",
    "import albumentations.pytorch\n",
    "\n",
    "from torch.utils.data import Dataset, DataLoader\n",
    "from torch.optim.lr_scheduler import _LRScheduler, CosineAnnealingLR, StepLR\n",
    "from sklearn.model_selection import StratifiedKFold, train_test_split\n",
    "from tqdm.auto import tqdm\n",
    "from tqdm.notebook import tqdm\n",
    "from easydict import EasyDict\n",
    "from torchvision import transforms\n",
    "from PIL import Image"
   ]
  },
  {
   "cell_type": "code",
   "execution_count": 2,
   "metadata": {},
   "outputs": [],
   "source": [
    "patience = 10\n",
    "counter = 0\n",
    "\n",
    "num_epochs = 50\n",
    "accumulation_steps = 2\n",
    "batch_size = 64\n",
    "train_log_interval = 100\n",
    "\n",
    "LEARNING_RATE = 0.0001 \n",
    "lr_decay_step = 5"
   ]
  },
  {
   "cell_type": "markdown",
   "metadata": {},
   "source": [
    "## Bring csv & Delete noise data"
   ]
  },
  {
   "cell_type": "code",
   "execution_count": 3,
   "metadata": {},
   "outputs": [],
   "source": [
    "filename = 'OpenData_PotOpenTabletIdntfc20220412.xls'\n",
    "df = pd.read_excel(filename, engine='openpyxl')"
   ]
  },
  {
   "cell_type": "code",
   "execution_count": 4,
   "metadata": {},
   "outputs": [
    {
     "data": {
      "text/html": [
       "<div>\n",
       "<style scoped>\n",
       "    .dataframe tbody tr th:only-of-type {\n",
       "        vertical-align: middle;\n",
       "    }\n",
       "\n",
       "    .dataframe tbody tr th {\n",
       "        vertical-align: top;\n",
       "    }\n",
       "\n",
       "    .dataframe thead th {\n",
       "        text-align: right;\n",
       "    }\n",
       "</style>\n",
       "<table border=\"1\" class=\"dataframe\">\n",
       "  <thead>\n",
       "    <tr style=\"text-align: right;\">\n",
       "      <th></th>\n",
       "      <th>품목일련번호</th>\n",
       "      <th>품목명</th>\n",
       "      <th>업소일련번호</th>\n",
       "      <th>업소명</th>\n",
       "      <th>성상</th>\n",
       "      <th>큰제품이미지</th>\n",
       "      <th>표시앞</th>\n",
       "      <th>표시뒤</th>\n",
       "      <th>의약품제형</th>\n",
       "      <th>색상앞</th>\n",
       "      <th>...</th>\n",
       "      <th>전문일반구분</th>\n",
       "      <th>품목허가일자</th>\n",
       "      <th>제형코드명</th>\n",
       "      <th>표기내용앞</th>\n",
       "      <th>표기내용뒤</th>\n",
       "      <th>표기이미지앞</th>\n",
       "      <th>표기이미지뒤</th>\n",
       "      <th>표기코드앞</th>\n",
       "      <th>표기코드뒤</th>\n",
       "      <th>변경일자</th>\n",
       "    </tr>\n",
       "  </thead>\n",
       "  <tbody>\n",
       "    <tr>\n",
       "      <th>24116</th>\n",
       "      <td>201900995</td>\n",
       "      <td>트라마펜세미서방정</td>\n",
       "      <td>19640018</td>\n",
       "      <td>구주제약(주)</td>\n",
       "      <td>연한 노란색의 원형 서방성 필름코팅정</td>\n",
       "      <td>https://nedrug.mfds.go.kr/pbp/cmn/itemImageDow...</td>\n",
       "      <td>GJ2</td>\n",
       "      <td>NaN</td>\n",
       "      <td>원형</td>\n",
       "      <td>주황</td>\n",
       "      <td>...</td>\n",
       "      <td>전문의약품</td>\n",
       "      <td>20190219</td>\n",
       "      <td>서방성필름코팅정</td>\n",
       "      <td>NaN</td>\n",
       "      <td>NaN</td>\n",
       "      <td>NaN</td>\n",
       "      <td>NaN</td>\n",
       "      <td>NaN</td>\n",
       "      <td>NaN</td>\n",
       "      <td>20220328.0</td>\n",
       "    </tr>\n",
       "  </tbody>\n",
       "</table>\n",
       "<p>1 rows × 29 columns</p>\n",
       "</div>"
      ],
      "text/plain": [
       "          품목일련번호        품목명    업소일련번호      업소명                    성상  \\\n",
       "24116  201900995  트라마펜세미서방정  19640018  구주제약(주)  연한 노란색의 원형 서방성 필름코팅정   \n",
       "\n",
       "                                                  큰제품이미지  표시앞  표시뒤 의약품제형 색상앞  \\\n",
       "24116  https://nedrug.mfds.go.kr/pbp/cmn/itemImageDow...  GJ2  NaN    원형  주황   \n",
       "\n",
       "       ... 전문일반구분    품목허가일자     제형코드명 표기내용앞 표기내용뒤 표기이미지앞  표기이미지뒤  표기코드앞 표기코드뒤  \\\n",
       "24116  ...  전문의약품  20190219  서방성필름코팅정   NaN   NaN    NaN     NaN    NaN   NaN   \n",
       "\n",
       "             변경일자  \n",
       "24116  20220328.0  \n",
       "\n",
       "[1 rows x 29 columns]"
      ]
     },
     "execution_count": 4,
     "metadata": {},
     "output_type": "execute_result"
    }
   ],
   "source": [
    "df[df['품목일련번호']==201900995]"
   ]
  },
  {
   "cell_type": "code",
   "execution_count": 5,
   "metadata": {},
   "outputs": [],
   "source": [
    "## delete 구강정 데이터\n",
    "index_delete1 = df[df['품목일련번호']==200605327].index\n",
    "index_delete2 = df[df['품목일련번호']==200605328].index\n",
    "index_delete3 = df[df['품목일련번호']==200605329].index\n",
    "index_delete4 = df[df['품목일련번호']==200605330].index\n",
    "index_delete5 = df[df['품목일련번호']==200605331].index\n",
    "index_delete6 = df[df['품목일련번호']==200606263].index\n",
    "\n",
    "## delete 반원형 데이터\n",
    "index_delete7 = df[df['품목일련번호']==197800388].index\n",
    "index_delete8 = df[df['품목일련번호']==199906868].index\n",
    "index_delete9 = df[df['품목일련번호']==197900378].index\n",
    "\n",
    "## delete some strange data\n",
    "# index_delete10 = df[df['품목일련번호']==200201439].index\n",
    "# index_delete11 = df[df['품목일련번호']==201401487].index\n",
    "# index_delete12 = df[df['품목일련번호']==202105657].index\n",
    "# index_delete13 = df[df['품목일련번호']==201803406].index\n",
    "# index_delete14 = df[df['품목일련번호']==200100083].index\n",
    "# index_delete15 = df[df['품목일련번호']==201900995].index"
   ]
  },
  {
   "cell_type": "code",
   "execution_count": 6,
   "metadata": {},
   "outputs": [],
   "source": [
    "df = df.drop(index_delete1)\n",
    "df = df.drop(index_delete2)\n",
    "df = df.drop(index_delete3)\n",
    "df = df.drop(index_delete4)\n",
    "df = df.drop(index_delete5)\n",
    "df = df.drop(index_delete6)\n",
    "df = df.drop(index_delete7)\n",
    "df = df.drop(index_delete8)\n",
    "df = df.drop(index_delete9)\n",
    "# df = df.drop(index_delete10)\n",
    "# df = df.drop(index_delete11)\n",
    "# df = df.drop(index_delete12)\n",
    "# df = df.drop(index_delete13)\n",
    "# df = df.drop(index_delete14)\n",
    "# df = df.drop(index_delete15)"
   ]
  },
  {
   "cell_type": "code",
   "execution_count": 7,
   "metadata": {},
   "outputs": [
    {
     "data": {
      "text/plain": [
       "array([['IDG', nan],\n",
       "       ['YH', 'LT'],\n",
       "       [nan, nan],\n",
       "       ...,\n",
       "       ['DTT DTT', nan],\n",
       "       ['ΛTB', '분할선'],\n",
       "       ['SK DEX', nan]], dtype=object)"
      ]
     },
     "execution_count": 7,
     "metadata": {},
     "output_type": "execute_result"
    }
   ],
   "source": [
    "df.iloc[:, [6, 7]].values"
   ]
  },
  {
   "cell_type": "code",
   "execution_count": 8,
   "metadata": {},
   "outputs": [],
   "source": [
    "is_text_mark_nan = []\n",
    "for front, back in df.iloc[:, [6, 7]].values:\n",
    "    # nan: 0, text: 1, mark: 2\n",
    "    if type(front) is float and type(back) is float:\n",
    "        is_text_mark_nan.append(0)\n",
    "    else:\n",
    "        if (type(front) is not float and '마크' in front) or (type(back) is not float and '마크' in back):\n",
    "            is_text_mark_nan.append(2)\n",
    "        else:\n",
    "            is_text_mark_nan.append(1)"
   ]
  },
  {
   "cell_type": "code",
   "execution_count": 9,
   "metadata": {},
   "outputs": [],
   "source": [
    "df.insert(29, 'text_mark_nan', is_text_mark_nan)"
   ]
  },
  {
   "cell_type": "code",
   "execution_count": 10,
   "metadata": {},
   "outputs": [],
   "source": [
    "num_classes = len(set(is_text_mark_nan))"
   ]
  },
  {
   "cell_type": "markdown",
   "metadata": {},
   "source": [
    "## Create CustomDataset"
   ]
  },
  {
   "cell_type": "code",
   "execution_count": 11,
   "metadata": {},
   "outputs": [],
   "source": [
    "class CustomDataset(Dataset):\n",
    "    def __init__(self, df, transform=None):\n",
    "        super().__init__()\n",
    "        self.df = df.reset_index()\n",
    "        self.image_id = self.df['품목일련번호']\n",
    "        self.labels = self.df['text_mark_nan']\n",
    "        self.transform = transform\n",
    "    \n",
    "    def __len__(self):\n",
    "        return len(self.df)\n",
    "\n",
    "    def __getitem__(self,idx):\n",
    "        image_id = self.image_id[idx]\n",
    "        label = self.labels[idx]\n",
    "        image_path = f'/opt/ml/data_handling/data/{image_id}.jpg'\n",
    "        image = Image.open(image_path)\n",
    "        if self.transform:\n",
    "            image = self.transform(image)\n",
    "        \n",
    "        return image, label"
   ]
  },
  {
   "cell_type": "markdown",
   "metadata": {},
   "source": [
    "## Split Train/Val"
   ]
  },
  {
   "cell_type": "code",
   "execution_count": 12,
   "metadata": {},
   "outputs": [],
   "source": [
    "image_num = df['품목일련번호']\n",
    "label = df['text_mark_nan']\n",
    "\n",
    "# https://teddylee777.github.io/scikit-learn/train-test-split\n",
    "x_train, x_valid, y_train, y_valid = train_test_split(image_num, label, test_size=0.2, stratify=label, random_state=22)"
   ]
  },
  {
   "cell_type": "code",
   "execution_count": 13,
   "metadata": {},
   "outputs": [],
   "source": [
    "## https://mizykk.tistory.com/131\n",
    "\n",
    "train_zip = zip(x_train, y_train)\n",
    "train_df = pd.DataFrame(train_zip)\n",
    "train_df.columns = ['품목일련번호','text_mark_nan']\n",
    "\n",
    "val_zip = zip(x_valid, y_valid)\n",
    "val_df = pd.DataFrame(val_zip)\n",
    "val_df.columns = ['품목일련번호','text_mark_nan']"
   ]
  },
  {
   "cell_type": "code",
   "execution_count": 14,
   "metadata": {},
   "outputs": [
    {
     "data": {
      "text/html": [
       "<div>\n",
       "<style scoped>\n",
       "    .dataframe tbody tr th:only-of-type {\n",
       "        vertical-align: middle;\n",
       "    }\n",
       "\n",
       "    .dataframe tbody tr th {\n",
       "        vertical-align: top;\n",
       "    }\n",
       "\n",
       "    .dataframe thead th {\n",
       "        text-align: right;\n",
       "    }\n",
       "</style>\n",
       "<table border=\"1\" class=\"dataframe\">\n",
       "  <thead>\n",
       "    <tr style=\"text-align: right;\">\n",
       "      <th></th>\n",
       "      <th>품목일련번호</th>\n",
       "    </tr>\n",
       "    <tr>\n",
       "      <th>text_mark_nan</th>\n",
       "      <th></th>\n",
       "    </tr>\n",
       "  </thead>\n",
       "  <tbody>\n",
       "    <tr>\n",
       "      <th>0</th>\n",
       "      <td>147</td>\n",
       "    </tr>\n",
       "    <tr>\n",
       "      <th>1</th>\n",
       "      <td>16779</td>\n",
       "    </tr>\n",
       "    <tr>\n",
       "      <th>2</th>\n",
       "      <td>2564</td>\n",
       "    </tr>\n",
       "  </tbody>\n",
       "</table>\n",
       "</div>"
      ],
      "text/plain": [
       "               품목일련번호\n",
       "text_mark_nan        \n",
       "0                 147\n",
       "1               16779\n",
       "2                2564"
      ]
     },
     "execution_count": 14,
     "metadata": {},
     "output_type": "execute_result"
    }
   ],
   "source": [
    "train_df.groupby('text_mark_nan').count()"
   ]
  },
  {
   "cell_type": "code",
   "execution_count": 15,
   "metadata": {},
   "outputs": [
    {
     "data": {
      "text/plain": [
       "품목일련번호    19490\n",
       "dtype: int64"
      ]
     },
     "execution_count": 15,
     "metadata": {},
     "output_type": "execute_result"
    }
   ],
   "source": [
    "train_df.groupby('text_mark_nan').count().sum()"
   ]
  },
  {
   "cell_type": "code",
   "execution_count": 16,
   "metadata": {},
   "outputs": [
    {
     "data": {
      "text/html": [
       "<div>\n",
       "<style scoped>\n",
       "    .dataframe tbody tr th:only-of-type {\n",
       "        vertical-align: middle;\n",
       "    }\n",
       "\n",
       "    .dataframe tbody tr th {\n",
       "        vertical-align: top;\n",
       "    }\n",
       "\n",
       "    .dataframe thead th {\n",
       "        text-align: right;\n",
       "    }\n",
       "</style>\n",
       "<table border=\"1\" class=\"dataframe\">\n",
       "  <thead>\n",
       "    <tr style=\"text-align: right;\">\n",
       "      <th></th>\n",
       "      <th>품목일련번호</th>\n",
       "    </tr>\n",
       "    <tr>\n",
       "      <th>text_mark_nan</th>\n",
       "      <th></th>\n",
       "    </tr>\n",
       "  </thead>\n",
       "  <tbody>\n",
       "    <tr>\n",
       "      <th>0</th>\n",
       "      <td>37</td>\n",
       "    </tr>\n",
       "    <tr>\n",
       "      <th>1</th>\n",
       "      <td>4195</td>\n",
       "    </tr>\n",
       "    <tr>\n",
       "      <th>2</th>\n",
       "      <td>641</td>\n",
       "    </tr>\n",
       "  </tbody>\n",
       "</table>\n",
       "</div>"
      ],
      "text/plain": [
       "               품목일련번호\n",
       "text_mark_nan        \n",
       "0                  37\n",
       "1                4195\n",
       "2                 641"
      ]
     },
     "execution_count": 16,
     "metadata": {},
     "output_type": "execute_result"
    }
   ],
   "source": [
    "val_df.groupby('text_mark_nan').count()"
   ]
  },
  {
   "cell_type": "code",
   "execution_count": 17,
   "metadata": {},
   "outputs": [
    {
     "data": {
      "text/plain": [
       "품목일련번호    4873\n",
       "dtype: int64"
      ]
     },
     "execution_count": 17,
     "metadata": {},
     "output_type": "execute_result"
    }
   ],
   "source": [
    "val_df.groupby('text_mark_nan').count().sum()"
   ]
  },
  {
   "cell_type": "code",
   "execution_count": 18,
   "metadata": {},
   "outputs": [],
   "source": [
    "transform = transforms.Compose([\n",
    "    transforms.Resize((224,224)),\n",
    "    transforms.ToTensor(),\n",
    "    transforms.Normalize(\n",
    "        [0.485, 0.456, 0.406],\n",
    "        [0.229, 0.224, 0.225]\n",
    "    )\n",
    "])\n",
    "\n",
    "train_dataset = CustomDataset(train_df, transform=transform)\n",
    "val_dataset = CustomDataset(val_df, transform=transform)"
   ]
  },
  {
   "cell_type": "code",
   "execution_count": 19,
   "metadata": {
    "tags": []
   },
   "outputs": [
    {
     "data": {
      "text/plain": [
       "(tensor([[[1.1529, 1.1529, 1.1529,  ..., 1.1529, 1.1529, 1.1529],\n",
       "          [1.1529, 1.1529, 1.1529,  ..., 1.1529, 1.1529, 1.1529],\n",
       "          [1.1529, 1.1529, 1.1529,  ..., 1.1529, 1.1529, 1.1529],\n",
       "          ...,\n",
       "          [1.1529, 1.1529, 1.1529,  ..., 1.1529, 1.1529, 1.1529],\n",
       "          [1.1529, 1.1529, 1.1529,  ..., 1.1529, 1.1529, 1.1529],\n",
       "          [1.1529, 1.1529, 1.1529,  ..., 1.1529, 1.1529, 1.1529]],\n",
       " \n",
       "         [[1.5707, 1.5707, 1.5707,  ..., 1.5707, 1.5707, 1.5707],\n",
       "          [1.5707, 1.5707, 1.5707,  ..., 1.5707, 1.5707, 1.5707],\n",
       "          [1.5707, 1.5707, 1.5707,  ..., 1.5707, 1.5707, 1.5707],\n",
       "          ...,\n",
       "          [1.5707, 1.5707, 1.5707,  ..., 1.5707, 1.5707, 1.5707],\n",
       "          [1.5707, 1.5707, 1.5707,  ..., 1.5707, 1.5707, 1.5707],\n",
       "          [1.5707, 1.5707, 1.5707,  ..., 1.5707, 1.5707, 1.5707]],\n",
       " \n",
       "         [[2.1171, 2.1171, 2.1171,  ..., 2.1171, 2.1171, 2.1171],\n",
       "          [2.1171, 2.1171, 2.1171,  ..., 2.1171, 2.1171, 2.1171],\n",
       "          [2.1171, 2.1171, 2.1171,  ..., 2.1171, 2.1171, 2.1171],\n",
       "          ...,\n",
       "          [2.1171, 2.1171, 2.1171,  ..., 2.1171, 2.1171, 2.1171],\n",
       "          [2.1171, 2.1171, 2.1171,  ..., 2.1171, 2.1171, 2.1171],\n",
       "          [2.1171, 2.1171, 2.1171,  ..., 2.1171, 2.1171, 2.1171]]]),\n",
       " 1)"
      ]
     },
     "execution_count": 19,
     "metadata": {},
     "output_type": "execute_result"
    }
   ],
   "source": [
    "image, label = next(iter(train_dataset))\n",
    "image, label"
   ]
  },
  {
   "cell_type": "code",
   "execution_count": 20,
   "metadata": {
    "tags": []
   },
   "outputs": [
    {
     "data": {
      "text/plain": [
       "(tensor([[[1.1529, 1.1529, 1.1529,  ..., 1.1529, 1.1529, 1.1529],\n",
       "          [1.1529, 1.1529, 1.1529,  ..., 1.1529, 1.1529, 1.1529],\n",
       "          [1.1529, 1.1529, 1.1529,  ..., 1.1529, 1.1529, 1.1529],\n",
       "          ...,\n",
       "          [1.1529, 1.1529, 1.1529,  ..., 1.1529, 1.1529, 1.1529],\n",
       "          [1.1529, 1.1529, 1.1529,  ..., 1.1529, 1.1529, 1.1529],\n",
       "          [1.1529, 1.1529, 1.1529,  ..., 1.1529, 1.1529, 1.1529]],\n",
       " \n",
       "         [[1.5707, 1.5707, 1.5707,  ..., 1.5707, 1.5707, 1.5707],\n",
       "          [1.5707, 1.5707, 1.5707,  ..., 1.5707, 1.5707, 1.5707],\n",
       "          [1.5707, 1.5707, 1.5707,  ..., 1.5707, 1.5707, 1.5707],\n",
       "          ...,\n",
       "          [1.5707, 1.5707, 1.5707,  ..., 1.5707, 1.5707, 1.5707],\n",
       "          [1.5707, 1.5707, 1.5707,  ..., 1.5707, 1.5707, 1.5707],\n",
       "          [1.5707, 1.5707, 1.5707,  ..., 1.5707, 1.5707, 1.5707]],\n",
       " \n",
       "         [[2.1171, 2.1171, 2.1171,  ..., 2.1171, 2.1171, 2.1171],\n",
       "          [2.1171, 2.1171, 2.1171,  ..., 2.1171, 2.1171, 2.1171],\n",
       "          [2.1171, 2.1171, 2.1171,  ..., 2.1171, 2.1171, 2.1171],\n",
       "          ...,\n",
       "          [2.1171, 2.1171, 2.1171,  ..., 2.1171, 2.1171, 2.1171],\n",
       "          [2.1171, 2.1171, 2.1171,  ..., 2.1171, 2.1171, 2.1171],\n",
       "          [2.1171, 2.1171, 2.1171,  ..., 2.1171, 2.1171, 2.1171]]]),\n",
       " 1)"
      ]
     },
     "execution_count": 20,
     "metadata": {},
     "output_type": "execute_result"
    }
   ],
   "source": [
    "image, label = next(iter(val_dataset))\n",
    "image, label"
   ]
  },
  {
   "cell_type": "code",
   "execution_count": 21,
   "metadata": {},
   "outputs": [],
   "source": [
    "train_loader = DataLoader(train_dataset, shuffle=True, batch_size=batch_size)\n",
    "val_loader = DataLoader(val_dataset, shuffle=False, batch_size=batch_size)"
   ]
  },
  {
   "cell_type": "markdown",
   "metadata": {},
   "source": [
    "## Pretrained Model"
   ]
  },
  {
   "cell_type": "code",
   "execution_count": 22,
   "metadata": {
    "tags": []
   },
   "outputs": [
    {
     "data": {
      "text/plain": [
       "ResNet(\n",
       "  (conv1): Conv2d(3, 64, kernel_size=(7, 7), stride=(2, 2), padding=(3, 3), bias=False)\n",
       "  (bn1): BatchNorm2d(64, eps=1e-05, momentum=0.1, affine=True, track_running_stats=True)\n",
       "  (act1): ReLU(inplace=True)\n",
       "  (maxpool): MaxPool2d(kernel_size=3, stride=2, padding=1, dilation=1, ceil_mode=False)\n",
       "  (layer1): Sequential(\n",
       "    (0): BasicBlock(\n",
       "      (conv1): Conv2d(64, 64, kernel_size=(3, 3), stride=(1, 1), padding=(1, 1), bias=False)\n",
       "      (bn1): BatchNorm2d(64, eps=1e-05, momentum=0.1, affine=True, track_running_stats=True)\n",
       "      (act1): ReLU(inplace=True)\n",
       "      (conv2): Conv2d(64, 64, kernel_size=(3, 3), stride=(1, 1), padding=(1, 1), bias=False)\n",
       "      (bn2): BatchNorm2d(64, eps=1e-05, momentum=0.1, affine=True, track_running_stats=True)\n",
       "      (act2): ReLU(inplace=True)\n",
       "    )\n",
       "    (1): BasicBlock(\n",
       "      (conv1): Conv2d(64, 64, kernel_size=(3, 3), stride=(1, 1), padding=(1, 1), bias=False)\n",
       "      (bn1): BatchNorm2d(64, eps=1e-05, momentum=0.1, affine=True, track_running_stats=True)\n",
       "      (act1): ReLU(inplace=True)\n",
       "      (conv2): Conv2d(64, 64, kernel_size=(3, 3), stride=(1, 1), padding=(1, 1), bias=False)\n",
       "      (bn2): BatchNorm2d(64, eps=1e-05, momentum=0.1, affine=True, track_running_stats=True)\n",
       "      (act2): ReLU(inplace=True)\n",
       "    )\n",
       "  )\n",
       "  (layer2): Sequential(\n",
       "    (0): BasicBlock(\n",
       "      (conv1): Conv2d(64, 128, kernel_size=(3, 3), stride=(2, 2), padding=(1, 1), bias=False)\n",
       "      (bn1): BatchNorm2d(128, eps=1e-05, momentum=0.1, affine=True, track_running_stats=True)\n",
       "      (act1): ReLU(inplace=True)\n",
       "      (conv2): Conv2d(128, 128, kernel_size=(3, 3), stride=(1, 1), padding=(1, 1), bias=False)\n",
       "      (bn2): BatchNorm2d(128, eps=1e-05, momentum=0.1, affine=True, track_running_stats=True)\n",
       "      (act2): ReLU(inplace=True)\n",
       "      (downsample): Sequential(\n",
       "        (0): Conv2d(64, 128, kernel_size=(1, 1), stride=(2, 2), bias=False)\n",
       "        (1): BatchNorm2d(128, eps=1e-05, momentum=0.1, affine=True, track_running_stats=True)\n",
       "      )\n",
       "    )\n",
       "    (1): BasicBlock(\n",
       "      (conv1): Conv2d(128, 128, kernel_size=(3, 3), stride=(1, 1), padding=(1, 1), bias=False)\n",
       "      (bn1): BatchNorm2d(128, eps=1e-05, momentum=0.1, affine=True, track_running_stats=True)\n",
       "      (act1): ReLU(inplace=True)\n",
       "      (conv2): Conv2d(128, 128, kernel_size=(3, 3), stride=(1, 1), padding=(1, 1), bias=False)\n",
       "      (bn2): BatchNorm2d(128, eps=1e-05, momentum=0.1, affine=True, track_running_stats=True)\n",
       "      (act2): ReLU(inplace=True)\n",
       "    )\n",
       "  )\n",
       "  (layer3): Sequential(\n",
       "    (0): BasicBlock(\n",
       "      (conv1): Conv2d(128, 256, kernel_size=(3, 3), stride=(2, 2), padding=(1, 1), bias=False)\n",
       "      (bn1): BatchNorm2d(256, eps=1e-05, momentum=0.1, affine=True, track_running_stats=True)\n",
       "      (act1): ReLU(inplace=True)\n",
       "      (conv2): Conv2d(256, 256, kernel_size=(3, 3), stride=(1, 1), padding=(1, 1), bias=False)\n",
       "      (bn2): BatchNorm2d(256, eps=1e-05, momentum=0.1, affine=True, track_running_stats=True)\n",
       "      (act2): ReLU(inplace=True)\n",
       "      (downsample): Sequential(\n",
       "        (0): Conv2d(128, 256, kernel_size=(1, 1), stride=(2, 2), bias=False)\n",
       "        (1): BatchNorm2d(256, eps=1e-05, momentum=0.1, affine=True, track_running_stats=True)\n",
       "      )\n",
       "    )\n",
       "    (1): BasicBlock(\n",
       "      (conv1): Conv2d(256, 256, kernel_size=(3, 3), stride=(1, 1), padding=(1, 1), bias=False)\n",
       "      (bn1): BatchNorm2d(256, eps=1e-05, momentum=0.1, affine=True, track_running_stats=True)\n",
       "      (act1): ReLU(inplace=True)\n",
       "      (conv2): Conv2d(256, 256, kernel_size=(3, 3), stride=(1, 1), padding=(1, 1), bias=False)\n",
       "      (bn2): BatchNorm2d(256, eps=1e-05, momentum=0.1, affine=True, track_running_stats=True)\n",
       "      (act2): ReLU(inplace=True)\n",
       "    )\n",
       "  )\n",
       "  (layer4): Sequential(\n",
       "    (0): BasicBlock(\n",
       "      (conv1): Conv2d(256, 512, kernel_size=(3, 3), stride=(2, 2), padding=(1, 1), bias=False)\n",
       "      (bn1): BatchNorm2d(512, eps=1e-05, momentum=0.1, affine=True, track_running_stats=True)\n",
       "      (act1): ReLU(inplace=True)\n",
       "      (conv2): Conv2d(512, 512, kernel_size=(3, 3), stride=(1, 1), padding=(1, 1), bias=False)\n",
       "      (bn2): BatchNorm2d(512, eps=1e-05, momentum=0.1, affine=True, track_running_stats=True)\n",
       "      (act2): ReLU(inplace=True)\n",
       "      (downsample): Sequential(\n",
       "        (0): Conv2d(256, 512, kernel_size=(1, 1), stride=(2, 2), bias=False)\n",
       "        (1): BatchNorm2d(512, eps=1e-05, momentum=0.1, affine=True, track_running_stats=True)\n",
       "      )\n",
       "    )\n",
       "    (1): BasicBlock(\n",
       "      (conv1): Conv2d(512, 512, kernel_size=(3, 3), stride=(1, 1), padding=(1, 1), bias=False)\n",
       "      (bn1): BatchNorm2d(512, eps=1e-05, momentum=0.1, affine=True, track_running_stats=True)\n",
       "      (act1): ReLU(inplace=True)\n",
       "      (conv2): Conv2d(512, 512, kernel_size=(3, 3), stride=(1, 1), padding=(1, 1), bias=False)\n",
       "      (bn2): BatchNorm2d(512, eps=1e-05, momentum=0.1, affine=True, track_running_stats=True)\n",
       "      (act2): ReLU(inplace=True)\n",
       "    )\n",
       "  )\n",
       "  (global_pool): SelectAdaptivePool2d (pool_type=avg, flatten=Flatten(start_dim=1, end_dim=-1))\n",
       "  (fc): Linear(in_features=512, out_features=3, bias=True)\n",
       ")"
      ]
     },
     "execution_count": 22,
     "metadata": {},
     "output_type": "execute_result"
    }
   ],
   "source": [
    "model_name = 'resnet18'\n",
    "model = timm.create_model(model_name, pretrained=True, num_classes=num_classes)\n",
    "\n",
    "device = torch.device(\"cuda:0\" if torch.cuda.is_available() else \"cpu\") \n",
    "model.to(device) "
   ]
  },
  {
   "cell_type": "code",
   "execution_count": 23,
   "metadata": {},
   "outputs": [],
   "source": [
    "criterion = torch.nn.CrossEntropyLoss() \n",
    "optimizer = torch.optim.Adam(model.parameters(), lr=LEARNING_RATE) \n",
    "scheduler = StepLR(optimizer, lr_decay_step, gamma=0.5)"
   ]
  },
  {
   "cell_type": "code",
   "execution_count": 24,
   "metadata": {
    "tags": []
   },
   "outputs": [
    {
     "name": "stderr",
     "output_type": "stream",
     "text": [
      "\u001b[34m\u001b[1mwandb\u001b[0m: You can find your API key in your browser here: https://wandb.ai/authorize\n"
     ]
    },
    {
     "name": "stdin",
     "output_type": "stream",
     "text": [
      "\u001b[34m\u001b[1mwandb\u001b[0m: Paste an API key from your profile and hit enter, or press ctrl+c to quit:  ········································\n"
     ]
    },
    {
     "name": "stderr",
     "output_type": "stream",
     "text": [
      "\u001b[34m\u001b[1mwandb\u001b[0m: Appending key for api.wandb.ai to your netrc file: /opt/ml/.netrc\n"
     ]
    },
    {
     "data": {
      "text/html": [
       "Tracking run with wandb version 0.12.16"
      ],
      "text/plain": [
       "<IPython.core.display.HTML object>"
      ]
     },
     "metadata": {},
     "output_type": "display_data"
    },
    {
     "data": {
      "text/html": [
       "Run data is saved locally in <code>/opt/ml/final-project-level3-cv-16/wandb/run-20220525_090533-q3bfmauv</code>"
      ],
      "text/plain": [
       "<IPython.core.display.HTML object>"
      ]
     },
     "metadata": {},
     "output_type": "display_data"
    },
    {
     "data": {
      "text/html": [
       "Syncing run <strong><a href=\"https://wandb.ai/medic/final-project/runs/q3bfmauv\" target=\"_blank\">KM_resnet18_text_mark_non</a></strong> to <a href=\"https://wandb.ai/medic/final-project\" target=\"_blank\">Weights & Biases</a> (<a href=\"https://wandb.me/run\" target=\"_blank\">docs</a>)<br/>"
      ],
      "text/plain": [
       "<IPython.core.display.HTML object>"
      ]
     },
     "metadata": {},
     "output_type": "display_data"
    },
    {
     "data": {
      "application/vnd.jupyter.widget-view+json": {
       "model_id": "7d75d355428f4b30aafa07c843dbd7ca",
       "version_major": 2,
       "version_minor": 0
      },
      "text/plain": [
       "HBox(children=(HTML(value=''), FloatProgress(value=1.0, bar_style='info', layout=Layout(width='20px'), max=1.0…"
      ]
     },
     "metadata": {},
     "output_type": "display_data"
    },
    {
     "name": "stdout",
     "output_type": "stream",
     "text": [
      "Epoch[0/50](100/305) || training loss 0.5881 || training accuracy 77.42% || lr [0.0001]\n",
      "Epoch[0/50](200/305) || training loss 0.4008 || training accuracy 86.30% || lr [0.0001]\n",
      "Epoch[0/50](300/305) || training loss 0.3679 || training accuracy 86.84% || lr [0.0001]\n",
      "\n",
      "Calculating validation results...\n",
      "New best model for val accuracy! saving the model..\n",
      "accuracy by label: [0.83783784 0.96400477 0.24960998]\n",
      "[Val] acc : 86.91%, loss: 0.35 || best acc : 86.91%, best loss: 0.35\n",
      "nan: 0.8378378378378378\n",
      "text: 0.964004767580453\n",
      "mark: 0.24960998439937598\n",
      "\n"
     ]
    },
    {
     "data": {
      "application/vnd.jupyter.widget-view+json": {
       "model_id": "2562c7584bf14c2aa1f950544e2e9e3c",
       "version_major": 2,
       "version_minor": 0
      },
      "text/plain": [
       "HBox(children=(HTML(value=''), FloatProgress(value=1.0, bar_style='info', layout=Layout(width='20px'), max=1.0…"
      ]
     },
     "metadata": {},
     "output_type": "display_data"
    },
    {
     "name": "stdout",
     "output_type": "stream",
     "text": [
      "Epoch[1/50](100/305) || training loss 0.3208 || training accuracy 88.36% || lr [0.0001]\n",
      "Epoch[1/50](200/305) || training loss 0.2916 || training accuracy 89.23% || lr [0.0001]\n",
      "Epoch[1/50](300/305) || training loss 0.2558 || training accuracy 90.78% || lr [0.0001]\n",
      "\n",
      "Calculating validation results...\n",
      "New best model for val accuracy! saving the model..\n",
      "accuracy by label: [0.83783784 0.97783075 0.4149766 ]\n",
      "[Val] acc : 90.27%, loss: 0.27 || best acc : 90.27%, best loss: 0.27\n",
      "nan: 0.8378378378378378\n",
      "text: 0.9778307508939214\n",
      "mark: 0.41497659906396256\n",
      "\n"
     ]
    },
    {
     "data": {
      "application/vnd.jupyter.widget-view+json": {
       "model_id": "e990e6885f81421b8639b38eb3eb25af",
       "version_major": 2,
       "version_minor": 0
      },
      "text/plain": [
       "HBox(children=(HTML(value=''), FloatProgress(value=1.0, bar_style='info', layout=Layout(width='20px'), max=1.0…"
      ]
     },
     "metadata": {},
     "output_type": "display_data"
    },
    {
     "name": "stdout",
     "output_type": "stream",
     "text": [
      "Epoch[2/50](100/305) || training loss 0.199 || training accuracy 93.16% || lr [0.0001]\n",
      "Epoch[2/50](200/305) || training loss 0.2026 || training accuracy 93.08% || lr [0.0001]\n",
      "Epoch[2/50](300/305) || training loss 0.2008 || training accuracy 93.17% || lr [0.0001]\n",
      "\n",
      "Calculating validation results...\n",
      "New best model for val accuracy! saving the model..\n",
      "accuracy by label: [0.72972973 0.98283671 0.50702028]\n",
      "[Val] acc : 91.83%, loss: 0.25 || best acc : 91.83%, best loss: 0.25\n",
      "nan: 0.7297297297297297\n",
      "text: 0.9828367103694875\n",
      "mark: 0.5070202808112324\n",
      "\n"
     ]
    },
    {
     "data": {
      "application/vnd.jupyter.widget-view+json": {
       "model_id": "301a436a58214840beeb2d74fc31644c",
       "version_major": 2,
       "version_minor": 0
      },
      "text/plain": [
       "HBox(children=(HTML(value=''), FloatProgress(value=1.0, bar_style='info', layout=Layout(width='20px'), max=1.0…"
      ]
     },
     "metadata": {},
     "output_type": "display_data"
    },
    {
     "name": "stdout",
     "output_type": "stream",
     "text": [
      "Epoch[3/50](100/305) || training loss 0.1344 || training accuracy 95.42% || lr [0.0001]\n",
      "Epoch[3/50](200/305) || training loss 0.1404 || training accuracy 95.36% || lr [0.0001]\n",
      "Epoch[3/50](300/305) || training loss 0.1501 || training accuracy 94.95% || lr [0.0001]\n",
      "\n",
      "Calculating validation results...\n",
      "accuracy by label: [0.83783784 0.96615018 0.57098284]\n",
      "[Val] acc : 91.32%, loss: 0.26 || best acc : 91.83%, best loss: 0.25\n",
      "nan: 0.8378378378378378\n",
      "text: 0.966150178784267\n",
      "mark: 0.5709828393135725\n",
      "\n"
     ]
    },
    {
     "data": {
      "application/vnd.jupyter.widget-view+json": {
       "model_id": "52f18f25a7cc49d6ac23c68a89126481",
       "version_major": 2,
       "version_minor": 0
      },
      "text/plain": [
       "HBox(children=(HTML(value=''), FloatProgress(value=1.0, bar_style='info', layout=Layout(width='20px'), max=1.0…"
      ]
     },
     "metadata": {},
     "output_type": "display_data"
    },
    {
     "name": "stdout",
     "output_type": "stream",
     "text": [
      "Epoch[4/50](100/305) || training loss 0.09012 || training accuracy 97.03% || lr [0.0001]\n",
      "Epoch[4/50](200/305) || training loss 0.08597 || training accuracy 97.22% || lr [0.0001]\n",
      "Epoch[4/50](300/305) || training loss 0.1085 || training accuracy 96.33% || lr [0.0001]\n",
      "\n",
      "Calculating validation results...\n",
      "New best model for val accuracy! saving the model..\n",
      "accuracy by label: [0.83783784 0.9806913  0.53666147]\n",
      "[Val] acc : 92.12%, loss: 0.25 || best acc : 92.12%, best loss: 0.25\n",
      "nan: 0.8378378378378378\n",
      "text: 0.9806912991656734\n",
      "mark: 0.5366614664586583\n",
      "\n"
     ]
    },
    {
     "data": {
      "application/vnd.jupyter.widget-view+json": {
       "model_id": "0abdcb0c815e49c49a9811fa7ec50729",
       "version_major": 2,
       "version_minor": 0
      },
      "text/plain": [
       "HBox(children=(HTML(value=''), FloatProgress(value=1.0, bar_style='info', layout=Layout(width='20px'), max=1.0…"
      ]
     },
     "metadata": {},
     "output_type": "display_data"
    },
    {
     "name": "stdout",
     "output_type": "stream",
     "text": [
      "Epoch[5/50](100/305) || training loss 0.05184 || training accuracy 98.61% || lr [5e-05]\n",
      "Epoch[5/50](200/305) || training loss 0.04084 || training accuracy 98.70% || lr [5e-05]\n",
      "Epoch[5/50](300/305) || training loss 0.04016 || training accuracy 98.69% || lr [5e-05]\n",
      "\n",
      "Calculating validation results...\n",
      "accuracy by label: [0.91891892 0.96162098 0.64274571]\n",
      "[Val] acc : 91.94%, loss:  0.3 || best acc : 92.12%, best loss: 0.25\n",
      "nan: 0.918918918918919\n",
      "text: 0.9616209773539929\n",
      "mark: 0.6427457098283932\n",
      "\n"
     ]
    },
    {
     "data": {
      "application/vnd.jupyter.widget-view+json": {
       "model_id": "b659b072978a4ea1bc15203e904bee39",
       "version_major": 2,
       "version_minor": 0
      },
      "text/plain": [
       "HBox(children=(HTML(value=''), FloatProgress(value=1.0, bar_style='info', layout=Layout(width='20px'), max=1.0…"
      ]
     },
     "metadata": {},
     "output_type": "display_data"
    },
    {
     "name": "stdout",
     "output_type": "stream",
     "text": [
      "Epoch[6/50](100/305) || training loss 0.02309 || training accuracy 99.34% || lr [5e-05]\n",
      "Epoch[6/50](200/305) || training loss 0.02313 || training accuracy 99.28% || lr [5e-05]\n",
      "Epoch[6/50](300/305) || training loss 0.02924 || training accuracy 99.09% || lr [5e-05]\n",
      "\n",
      "Calculating validation results...\n",
      "New best model for val accuracy! saving the model..\n",
      "accuracy by label: [0.81081081 0.98116806 0.59906396]\n",
      "[Val] acc : 92.96%, loss:  0.3 || best acc : 92.96%, best loss: 0.25\n",
      "nan: 0.8108108108108109\n",
      "text: 0.9811680572109654\n",
      "mark: 0.5990639625585024\n",
      "\n"
     ]
    },
    {
     "data": {
      "application/vnd.jupyter.widget-view+json": {
       "model_id": "290343556f864fd0826b5dbb9c3be5e5",
       "version_major": 2,
       "version_minor": 0
      },
      "text/plain": [
       "HBox(children=(HTML(value=''), FloatProgress(value=1.0, bar_style='info', layout=Layout(width='20px'), max=1.0…"
      ]
     },
     "metadata": {},
     "output_type": "display_data"
    },
    {
     "name": "stdout",
     "output_type": "stream",
     "text": [
      "Epoch[7/50](100/305) || training loss 0.02037 || training accuracy 99.36% || lr [5e-05]\n",
      "Epoch[7/50](200/305) || training loss 0.01488 || training accuracy 99.64% || lr [5e-05]\n",
      "Epoch[7/50](300/305) || training loss 0.01925 || training accuracy 99.39% || lr [5e-05]\n",
      "\n",
      "Calculating validation results...\n",
      "accuracy by label: [0.81081081 0.97187128 0.61934477]\n",
      "[Val] acc : 92.43%, loss: 0.31 || best acc : 92.96%, best loss: 0.25\n",
      "nan: 0.8108108108108109\n",
      "text: 0.9718712753277712\n",
      "mark: 0.6193447737909517\n",
      "\n"
     ]
    },
    {
     "data": {
      "application/vnd.jupyter.widget-view+json": {
       "model_id": "3bfda5ef03974abdb395fd6fd940690c",
       "version_major": 2,
       "version_minor": 0
      },
      "text/plain": [
       "HBox(children=(HTML(value=''), FloatProgress(value=1.0, bar_style='info', layout=Layout(width='20px'), max=1.0…"
      ]
     },
     "metadata": {},
     "output_type": "display_data"
    },
    {
     "name": "stdout",
     "output_type": "stream",
     "text": [
      "Epoch[8/50](100/305) || training loss 0.01141 || training accuracy 99.69% || lr [5e-05]\n",
      "Epoch[8/50](200/305) || training loss 0.01085 || training accuracy 99.73% || lr [5e-05]\n",
      "Epoch[8/50](300/305) || training loss 0.01104 || training accuracy 99.67% || lr [5e-05]\n",
      "\n",
      "Calculating validation results...\n",
      "accuracy by label: [0.86486486 0.97330155 0.61622465]\n",
      "[Val] acc : 92.55%, loss: 0.34 || best acc : 92.96%, best loss: 0.25\n",
      "nan: 0.8648648648648649\n",
      "text: 0.9733015494636472\n",
      "mark: 0.6162246489859594\n",
      "\n"
     ]
    },
    {
     "data": {
      "application/vnd.jupyter.widget-view+json": {
       "model_id": "72be1e0c5ce3470bb062be988771b34a",
       "version_major": 2,
       "version_minor": 0
      },
      "text/plain": [
       "HBox(children=(HTML(value=''), FloatProgress(value=1.0, bar_style='info', layout=Layout(width='20px'), max=1.0…"
      ]
     },
     "metadata": {},
     "output_type": "display_data"
    },
    {
     "name": "stdout",
     "output_type": "stream",
     "text": [
      "Epoch[9/50](100/305) || training loss 0.007546 || training accuracy 99.83% || lr [5e-05]\n",
      "Epoch[9/50](200/305) || training loss 0.008722 || training accuracy 99.77% || lr [5e-05]\n",
      "Epoch[9/50](300/305) || training loss 0.007246 || training accuracy 99.80% || lr [5e-05]\n",
      "\n",
      "Calculating validation results...\n",
      "New best model for val accuracy! saving the model..\n",
      "accuracy by label: [0.86486486 0.97711561 0.62402496]\n",
      "[Val] acc : 92.98%, loss: 0.35 || best acc : 92.98%, best loss: 0.25\n",
      "nan: 0.8648648648648649\n",
      "text: 0.9771156138259833\n",
      "mark: 0.62402496099844\n",
      "\n"
     ]
    },
    {
     "data": {
      "application/vnd.jupyter.widget-view+json": {
       "model_id": "f09000e1e92748afa32695a347d9b909",
       "version_major": 2,
       "version_minor": 0
      },
      "text/plain": [
       "HBox(children=(HTML(value=''), FloatProgress(value=1.0, bar_style='info', layout=Layout(width='20px'), max=1.0…"
      ]
     },
     "metadata": {},
     "output_type": "display_data"
    },
    {
     "name": "stdout",
     "output_type": "stream",
     "text": [
      "Epoch[10/50](100/305) || training loss 0.006038 || training accuracy 99.84% || lr [2.5e-05]\n",
      "Epoch[10/50](200/305) || training loss 0.004288 || training accuracy 99.91% || lr [2.5e-05]\n",
      "Epoch[10/50](300/305) || training loss 0.004014 || training accuracy 99.92% || lr [2.5e-05]\n",
      "\n",
      "Calculating validation results...\n",
      "accuracy by label: [0.86486486 0.9761621  0.62090484]\n",
      "[Val] acc : 92.86%, loss: 0.36 || best acc : 92.98%, best loss: 0.25\n",
      "nan: 0.8648648648648649\n",
      "text: 0.9761620977353993\n",
      "mark: 0.6209048361934477\n",
      "\n"
     ]
    },
    {
     "data": {
      "application/vnd.jupyter.widget-view+json": {
       "model_id": "1bf717cc317f4d83a620a38bfd2f2bb4",
       "version_major": 2,
       "version_minor": 0
      },
      "text/plain": [
       "HBox(children=(HTML(value=''), FloatProgress(value=1.0, bar_style='info', layout=Layout(width='20px'), max=1.0…"
      ]
     },
     "metadata": {},
     "output_type": "display_data"
    },
    {
     "name": "stdout",
     "output_type": "stream",
     "text": [
      "Epoch[11/50](100/305) || training loss 0.002082 || training accuracy 99.98% || lr [2.5e-05]\n",
      "Epoch[11/50](200/305) || training loss 0.001811 || training accuracy 99.97% || lr [2.5e-05]\n",
      "Epoch[11/50](300/305) || training loss 0.001439 || training accuracy 100.00% || lr [2.5e-05]\n",
      "\n",
      "Calculating validation results...\n",
      "New best model for val accuracy! saving the model..\n",
      "accuracy by label: [0.83783784 0.98307509 0.59282371]\n",
      "[Val] acc : 93.06%, loss: 0.39 || best acc : 93.06%, best loss: 0.25\n",
      "nan: 0.8378378378378378\n",
      "text: 0.9830750893921335\n",
      "mark: 0.592823712948518\n",
      "\n"
     ]
    },
    {
     "data": {
      "application/vnd.jupyter.widget-view+json": {
       "model_id": "2d994af357844ab3b370e2faa99f7d1d",
       "version_major": 2,
       "version_minor": 0
      },
      "text/plain": [
       "HBox(children=(HTML(value=''), FloatProgress(value=1.0, bar_style='info', layout=Layout(width='20px'), max=1.0…"
      ]
     },
     "metadata": {},
     "output_type": "display_data"
    },
    {
     "name": "stdout",
     "output_type": "stream",
     "text": [
      "Epoch[12/50](100/305) || training loss 0.001098 || training accuracy 100.00% || lr [2.5e-05]\n",
      "Epoch[12/50](200/305) || training loss 0.00139 || training accuracy 99.98% || lr [2.5e-05]\n",
      "Epoch[12/50](300/305) || training loss 0.001204 || training accuracy 100.00% || lr [2.5e-05]\n",
      "\n",
      "Calculating validation results...\n",
      "New best model for val accuracy! saving the model..\n",
      "accuracy by label: [0.86486486 0.98164482 0.60218409]\n",
      "[Val] acc : 93.08%, loss: 0.38 || best acc : 93.08%, best loss: 0.25\n",
      "nan: 0.8648648648648649\n",
      "text: 0.9816448152562575\n",
      "mark: 0.6021840873634945\n",
      "\n"
     ]
    },
    {
     "data": {
      "application/vnd.jupyter.widget-view+json": {
       "model_id": "817ad86d33f5455a8dd73f6529d6fdb6",
       "version_major": 2,
       "version_minor": 0
      },
      "text/plain": [
       "HBox(children=(HTML(value=''), FloatProgress(value=1.0, bar_style='info', layout=Layout(width='20px'), max=1.0…"
      ]
     },
     "metadata": {},
     "output_type": "display_data"
    },
    {
     "name": "stdout",
     "output_type": "stream",
     "text": [
      "Epoch[13/50](100/305) || training loss 0.002025 || training accuracy 99.97% || lr [2.5e-05]\n",
      "Epoch[13/50](200/305) || training loss 0.001664 || training accuracy 99.98% || lr [2.5e-05]\n",
      "Epoch[13/50](300/305) || training loss 0.001448 || training accuracy 100.00% || lr [2.5e-05]\n",
      "\n",
      "Calculating validation results...\n",
      "accuracy by label: [0.89189189 0.97830751 0.6099844 ]\n",
      "[Val] acc : 92.92%, loss:  0.4 || best acc : 93.08%, best loss: 0.25\n",
      "nan: 0.8918918918918919\n",
      "text: 0.9783075089392134\n",
      "mark: 0.609984399375975\n",
      "\n"
     ]
    },
    {
     "data": {
      "application/vnd.jupyter.widget-view+json": {
       "model_id": "356301e45e0a494cb30cfb57f5b2efd7",
       "version_major": 2,
       "version_minor": 0
      },
      "text/plain": [
       "HBox(children=(HTML(value=''), FloatProgress(value=1.0, bar_style='info', layout=Layout(width='20px'), max=1.0…"
      ]
     },
     "metadata": {},
     "output_type": "display_data"
    },
    {
     "name": "stdout",
     "output_type": "stream",
     "text": [
      "Epoch[14/50](100/305) || training loss 0.001161 || training accuracy 100.00% || lr [2.5e-05]\n",
      "Epoch[14/50](200/305) || training loss 0.001007 || training accuracy 99.98% || lr [2.5e-05]\n",
      "Epoch[14/50](300/305) || training loss 0.0009691 || training accuracy 100.00% || lr [2.5e-05]\n",
      "\n",
      "Calculating validation results...\n",
      "accuracy by label: [0.86486486 0.97830751 0.61778471]\n",
      "[Val] acc : 93.00%, loss:  0.4 || best acc : 93.08%, best loss: 0.25\n",
      "nan: 0.8648648648648649\n",
      "text: 0.9783075089392134\n",
      "mark: 0.6177847113884556\n",
      "\n"
     ]
    },
    {
     "data": {
      "application/vnd.jupyter.widget-view+json": {
       "model_id": "8bd961599f4841b5814fa70a9c1db3a6",
       "version_major": 2,
       "version_minor": 0
      },
      "text/plain": [
       "HBox(children=(HTML(value=''), FloatProgress(value=1.0, bar_style='info', layout=Layout(width='20px'), max=1.0…"
      ]
     },
     "metadata": {},
     "output_type": "display_data"
    },
    {
     "name": "stdout",
     "output_type": "stream",
     "text": [
      "Epoch[15/50](100/305) || training loss 0.000802 || training accuracy 100.00% || lr [1.25e-05]\n",
      "Epoch[15/50](200/305) || training loss 0.0008777 || training accuracy 100.00% || lr [1.25e-05]\n",
      "Epoch[15/50](300/305) || training loss 0.0006859 || training accuracy 100.00% || lr [1.25e-05]\n",
      "\n",
      "Calculating validation results...\n",
      "accuracy by label: [0.86486486 0.97854589 0.62090484]\n",
      "[Val] acc : 93.06%, loss:  0.4 || best acc : 93.08%, best loss: 0.25\n",
      "nan: 0.8648648648648649\n",
      "text: 0.9785458879618594\n",
      "mark: 0.6209048361934477\n",
      "\n"
     ]
    },
    {
     "data": {
      "application/vnd.jupyter.widget-view+json": {
       "model_id": "0319512b9d314cde951dc7a54d4caafe",
       "version_major": 2,
       "version_minor": 0
      },
      "text/plain": [
       "HBox(children=(HTML(value=''), FloatProgress(value=1.0, bar_style='info', layout=Layout(width='20px'), max=1.0…"
      ]
     },
     "metadata": {},
     "output_type": "display_data"
    },
    {
     "name": "stdout",
     "output_type": "stream",
     "text": [
      "Epoch[16/50](100/305) || training loss 0.0007745 || training accuracy 100.00% || lr [1.25e-05]\n",
      "Epoch[16/50](200/305) || training loss 0.0006971 || training accuracy 100.00% || lr [1.25e-05]\n",
      "Epoch[16/50](300/305) || training loss 0.0005896 || training accuracy 100.00% || lr [1.25e-05]\n",
      "\n",
      "Calculating validation results...\n",
      "New best model for val accuracy! saving the model..\n",
      "accuracy by label: [0.86486486 0.98092968 0.61778471]\n",
      "[Val] acc : 93.23%, loss:  0.4 || best acc : 93.23%, best loss: 0.25\n",
      "nan: 0.8648648648648649\n",
      "text: 0.9809296781883194\n",
      "mark: 0.6177847113884556\n",
      "\n"
     ]
    },
    {
     "data": {
      "application/vnd.jupyter.widget-view+json": {
       "model_id": "e8d701c29d8346a193d8f584e7000f35",
       "version_major": 2,
       "version_minor": 0
      },
      "text/plain": [
       "HBox(children=(HTML(value=''), FloatProgress(value=1.0, bar_style='info', layout=Layout(width='20px'), max=1.0…"
      ]
     },
     "metadata": {},
     "output_type": "display_data"
    },
    {
     "name": "stdout",
     "output_type": "stream",
     "text": [
      "Epoch[17/50](100/305) || training loss 0.0005283 || training accuracy 100.00% || lr [1.25e-05]\n",
      "Epoch[17/50](200/305) || training loss 0.0005381 || training accuracy 100.00% || lr [1.25e-05]\n",
      "Epoch[17/50](300/305) || training loss 0.0005761 || training accuracy 100.00% || lr [1.25e-05]\n",
      "\n",
      "Calculating validation results...\n",
      "New best model for val accuracy! saving the model..\n",
      "accuracy by label: [0.83783784 0.98379023 0.60686427]\n",
      "[Val] acc : 93.31%, loss: 0.42 || best acc : 93.31%, best loss: 0.25\n",
      "nan: 0.8378378378378378\n",
      "text: 0.9837902264600715\n",
      "mark: 0.6068642745709828\n",
      "\n"
     ]
    },
    {
     "data": {
      "application/vnd.jupyter.widget-view+json": {
       "model_id": "6c3d6b62024f409289f7dc165da5cc35",
       "version_major": 2,
       "version_minor": 0
      },
      "text/plain": [
       "HBox(children=(HTML(value=''), FloatProgress(value=1.0, bar_style='info', layout=Layout(width='20px'), max=1.0…"
      ]
     },
     "metadata": {},
     "output_type": "display_data"
    },
    {
     "name": "stdout",
     "output_type": "stream",
     "text": [
      "Epoch[18/50](100/305) || training loss 0.001902 || training accuracy 99.97% || lr [1.25e-05]\n",
      "Epoch[18/50](200/305) || training loss 0.0008897 || training accuracy 100.00% || lr [1.25e-05]\n",
      "Epoch[18/50](300/305) || training loss 0.0008713 || training accuracy 99.98% || lr [1.25e-05]\n",
      "\n",
      "Calculating validation results...\n",
      "accuracy by label: [0.86486486 0.98140644 0.60842434]\n",
      "[Val] acc : 93.15%, loss:  0.4 || best acc : 93.31%, best loss: 0.25\n",
      "nan: 0.8648648648648649\n",
      "text: 0.9814064362336115\n",
      "mark: 0.608424336973479\n",
      "\n"
     ]
    },
    {
     "data": {
      "application/vnd.jupyter.widget-view+json": {
       "model_id": "508f026cd5e1456fbf41e7e97a05783b",
       "version_major": 2,
       "version_minor": 0
      },
      "text/plain": [
       "HBox(children=(HTML(value=''), FloatProgress(value=1.0, bar_style='info', layout=Layout(width='20px'), max=1.0…"
      ]
     },
     "metadata": {},
     "output_type": "display_data"
    },
    {
     "name": "stdout",
     "output_type": "stream",
     "text": [
      "Epoch[19/50](100/305) || training loss 0.0008655 || training accuracy 99.98% || lr [1.25e-05]\n",
      "Epoch[19/50](200/305) || training loss 0.0007226 || training accuracy 100.00% || lr [1.25e-05]\n",
      "Epoch[19/50](300/305) || training loss 0.0006115 || training accuracy 100.00% || lr [1.25e-05]\n",
      "\n",
      "Calculating validation results...\n",
      "accuracy by label: [0.86486486 0.98164482 0.60218409]\n",
      "[Val] acc : 93.08%, loss: 0.41 || best acc : 93.31%, best loss: 0.25\n",
      "nan: 0.8648648648648649\n",
      "text: 0.9816448152562575\n",
      "mark: 0.6021840873634945\n",
      "\n"
     ]
    },
    {
     "data": {
      "application/vnd.jupyter.widget-view+json": {
       "model_id": "27218996c84c4cafb285a80f2993ce41",
       "version_major": 2,
       "version_minor": 0
      },
      "text/plain": [
       "HBox(children=(HTML(value=''), FloatProgress(value=1.0, bar_style='info', layout=Layout(width='20px'), max=1.0…"
      ]
     },
     "metadata": {},
     "output_type": "display_data"
    },
    {
     "name": "stdout",
     "output_type": "stream",
     "text": [
      "Epoch[20/50](100/305) || training loss 0.0004972 || training accuracy 100.00% || lr [6.25e-06]\n",
      "Epoch[20/50](200/305) || training loss 0.0006779 || training accuracy 100.00% || lr [6.25e-06]\n",
      "Epoch[20/50](300/305) || training loss 0.0006088 || training accuracy 100.00% || lr [6.25e-06]\n",
      "\n",
      "Calculating validation results...\n",
      "accuracy by label: [0.83783784 0.98283671 0.60686427]\n",
      "[Val] acc : 93.23%, loss: 0.41 || best acc : 93.31%, best loss: 0.25\n",
      "nan: 0.8378378378378378\n",
      "text: 0.9828367103694875\n",
      "mark: 0.6068642745709828\n",
      "\n"
     ]
    },
    {
     "data": {
      "application/vnd.jupyter.widget-view+json": {
       "model_id": "51e8cc633dba4b1783b19c7343e67985",
       "version_major": 2,
       "version_minor": 0
      },
      "text/plain": [
       "HBox(children=(HTML(value=''), FloatProgress(value=1.0, bar_style='info', layout=Layout(width='20px'), max=1.0…"
      ]
     },
     "metadata": {},
     "output_type": "display_data"
    },
    {
     "name": "stdout",
     "output_type": "stream",
     "text": [
      "Epoch[21/50](100/305) || training loss 0.0005627 || training accuracy 100.00% || lr [6.25e-06]\n",
      "Epoch[21/50](200/305) || training loss 0.0004896 || training accuracy 100.00% || lr [6.25e-06]\n",
      "Epoch[21/50](300/305) || training loss 0.0004444 || training accuracy 100.00% || lr [6.25e-06]\n",
      "\n",
      "Calculating validation results...\n",
      "accuracy by label: [0.83783784 0.98235995 0.6099844 ]\n",
      "[Val] acc : 93.23%, loss: 0.41 || best acc : 93.31%, best loss: 0.25\n",
      "nan: 0.8378378378378378\n",
      "text: 0.9823599523241955\n",
      "mark: 0.609984399375975\n",
      "\n"
     ]
    },
    {
     "data": {
      "application/vnd.jupyter.widget-view+json": {
       "model_id": "4e04d14d786c4d9998916d09a7b2f8cf",
       "version_major": 2,
       "version_minor": 0
      },
      "text/plain": [
       "HBox(children=(HTML(value=''), FloatProgress(value=1.0, bar_style='info', layout=Layout(width='20px'), max=1.0…"
      ]
     },
     "metadata": {},
     "output_type": "display_data"
    },
    {
     "name": "stdout",
     "output_type": "stream",
     "text": [
      "Epoch[22/50](100/305) || training loss 0.0004643 || training accuracy 100.00% || lr [6.25e-06]\n",
      "Epoch[22/50](200/305) || training loss 0.0004648 || training accuracy 100.00% || lr [6.25e-06]\n",
      "Epoch[23/50](100/305) || training loss 0.0006628 || training accuracy 100.00% || lr [6.25e-06]\n",
      "Epoch[23/50](200/305) || training loss 0.0003967 || training accuracy 100.00% || lr [6.25e-06]\n",
      "Epoch[23/50](300/305) || training loss 0.0004587 || training accuracy 100.00% || lr [6.25e-06]\n",
      "\n",
      "Calculating validation results...\n",
      "accuracy by label: [0.86486486 0.9806913  0.61934477]\n",
      "[Val] acc : 93.23%, loss: 0.41 || best acc : 93.31%, best loss: 0.25\n",
      "nan: 0.8648648648648649\n",
      "text: 0.9806912991656734\n",
      "mark: 0.6193447737909517\n",
      "\n"
     ]
    },
    {
     "data": {
      "application/vnd.jupyter.widget-view+json": {
       "model_id": "42d4bf5567dd4dcba7f8e68ea4cc5f15",
       "version_major": 2,
       "version_minor": 0
      },
      "text/plain": [
       "HBox(children=(HTML(value=''), FloatProgress(value=1.0, bar_style='info', layout=Layout(width='20px'), max=1.0…"
      ]
     },
     "metadata": {},
     "output_type": "display_data"
    },
    {
     "name": "stdout",
     "output_type": "stream",
     "text": [
      "Epoch[24/50](100/305) || training loss 0.0003357 || training accuracy 100.00% || lr [6.25e-06]\n",
      "Epoch[24/50](200/305) || training loss 0.0003808 || training accuracy 100.00% || lr [6.25e-06]\n",
      "Epoch[24/50](300/305) || training loss 0.0003498 || training accuracy 100.00% || lr [6.25e-06]\n",
      "\n",
      "Calculating validation results...\n",
      "accuracy by label: [0.83783784 0.98235995 0.6099844 ]\n",
      "[Val] acc : 93.23%, loss: 0.42 || best acc : 93.31%, best loss: 0.25\n",
      "nan: 0.8378378378378378\n",
      "text: 0.9823599523241955\n",
      "mark: 0.609984399375975\n",
      "\n"
     ]
    },
    {
     "data": {
      "application/vnd.jupyter.widget-view+json": {
       "model_id": "6ff7605a2ee448b5b2329c5b12fec4d8",
       "version_major": 2,
       "version_minor": 0
      },
      "text/plain": [
       "HBox(children=(HTML(value=''), FloatProgress(value=1.0, bar_style='info', layout=Layout(width='20px'), max=1.0…"
      ]
     },
     "metadata": {},
     "output_type": "display_data"
    },
    {
     "name": "stdout",
     "output_type": "stream",
     "text": [
      "Epoch[25/50](100/305) || training loss 0.0003918 || training accuracy 100.00% || lr [3.125e-06]\n",
      "Epoch[25/50](200/305) || training loss 0.0003584 || training accuracy 100.00% || lr [3.125e-06]\n",
      "Epoch[25/50](300/305) || training loss 0.0003401 || training accuracy 100.00% || lr [3.125e-06]\n",
      "\n",
      "Calculating validation results...\n",
      "accuracy by label: [0.86486486 0.98116806 0.61466459]\n",
      "[Val] acc : 93.21%, loss: 0.42 || best acc : 93.31%, best loss: 0.25\n",
      "nan: 0.8648648648648649\n",
      "text: 0.9811680572109654\n",
      "mark: 0.6146645865834633\n",
      "\n"
     ]
    },
    {
     "data": {
      "application/vnd.jupyter.widget-view+json": {
       "model_id": "21b6c3e695a74430844984e33c5b8772",
       "version_major": 2,
       "version_minor": 0
      },
      "text/plain": [
       "HBox(children=(HTML(value=''), FloatProgress(value=1.0, bar_style='info', layout=Layout(width='20px'), max=1.0…"
      ]
     },
     "metadata": {},
     "output_type": "display_data"
    },
    {
     "name": "stdout",
     "output_type": "stream",
     "text": [
      "Epoch[26/50](100/305) || training loss 0.0003662 || training accuracy 100.00% || lr [3.125e-06]\n",
      "Epoch[26/50](200/305) || training loss 0.0003521 || training accuracy 100.00% || lr [3.125e-06]\n",
      "Epoch[26/50](300/305) || training loss 0.0003277 || training accuracy 100.00% || lr [3.125e-06]\n",
      "\n",
      "Calculating validation results...\n",
      "accuracy by label: [0.86486486 0.97806913 0.62402496]\n",
      "[Val] acc : 93.06%, loss: 0.42 || best acc : 93.31%, best loss: 0.25\n",
      "nan: 0.8648648648648649\n",
      "text: 0.9780691299165674\n",
      "mark: 0.62402496099844\n",
      "\n"
     ]
    },
    {
     "data": {
      "application/vnd.jupyter.widget-view+json": {
       "model_id": "30552f5740fc44bfab29af4b9035d947",
       "version_major": 2,
       "version_minor": 0
      },
      "text/plain": [
       "HBox(children=(HTML(value=''), FloatProgress(value=1.0, bar_style='info', layout=Layout(width='20px'), max=1.0…"
      ]
     },
     "metadata": {},
     "output_type": "display_data"
    },
    {
     "name": "stdout",
     "output_type": "stream",
     "text": [
      "Epoch[27/50](100/305) || training loss 0.0003688 || training accuracy 100.00% || lr [3.125e-06]\n",
      "Epoch[27/50](200/305) || training loss 0.0003796 || training accuracy 100.00% || lr [3.125e-06]\n",
      "Epoch[27/50](300/305) || training loss 0.0005596 || training accuracy 100.00% || lr [3.125e-06]\n",
      "\n",
      "Calculating validation results...\n",
      "accuracy by label: [0.86486486 0.9794994  0.61622465]\n",
      "[Val] acc : 93.08%, loss: 0.42 || best acc : 93.31%, best loss: 0.25\n",
      "nan: 0.8648648648648649\n",
      "text: 0.9794994040524434\n",
      "mark: 0.6162246489859594\n",
      "\n"
     ]
    },
    {
     "data": {
      "application/vnd.jupyter.widget-view+json": {
       "model_id": "8c036531125a44319cd05cf2030e2802",
       "version_major": 2,
       "version_minor": 0
      },
      "text/plain": [
       "HBox(children=(HTML(value=''), FloatProgress(value=1.0, bar_style='info', layout=Layout(width='20px'), max=1.0…"
      ]
     },
     "metadata": {},
     "output_type": "display_data"
    },
    {
     "name": "stdout",
     "output_type": "stream",
     "text": [
      "Epoch[28/50](100/305) || training loss 0.0004618 || training accuracy 100.00% || lr [3.125e-06]\n",
      "Epoch[28/50](200/305) || training loss 0.0002873 || training accuracy 100.00% || lr [3.125e-06]\n",
      "Epoch[28/50](300/305) || training loss 0.0004391 || training accuracy 100.00% || lr [3.125e-06]\n",
      "\n",
      "Calculating validation results...\n",
      "Early Stopping...\n"
     ]
    }
   ],
   "source": [
    "import wandb\n",
    "wandb.init(project=\"final-project\", entity=\"medic\", name=f\"KM_{model_name}_text_mark_non\")\n",
    "\n",
    "name = f'{model_name}_type_and_shape'\n",
    "os.makedirs(os.path.join(os.getcwd(), 'results', name), exist_ok=True)\n",
    "\n",
    "counter = 0\n",
    "best_val_acc = 0\n",
    "best_val_loss = np.inf\n",
    "\n",
    "for epoch in range(num_epochs):\n",
    "    # train loop\n",
    "    model.train()\n",
    "    loss_value = 0\n",
    "    matches = 0\n",
    "    for idx, train_batch in tqdm(enumerate(train_loader)):\n",
    "        inputs, labels = train_batch\n",
    "        inputs = inputs.to(device)\n",
    "        labels = labels.to(device)\n",
    "\n",
    "        outs = model(inputs)\n",
    "        preds = torch.argmax(outs, dim=-1)\n",
    "        loss = criterion(outs, labels)\n",
    "\n",
    "        loss.backward()\n",
    "        \n",
    "        # -- Gradient Accumulation\n",
    "        if (idx+1) % accumulation_steps == 0:\n",
    "            optimizer.step()\n",
    "            optimizer.zero_grad()\n",
    "\n",
    "        loss_value += loss.item()\n",
    "        matches += (preds == labels).sum().item()\n",
    "        if (idx + 1) % train_log_interval == 0:\n",
    "            train_loss = loss_value / train_log_interval\n",
    "            train_acc = matches / batch_size / train_log_interval\n",
    "            current_lr = scheduler.get_last_lr()\n",
    "            print(\n",
    "                f\"Epoch[{epoch}/{num_epochs}]({idx + 1}/{len(train_loader)}) || \"\n",
    "                f\"training loss {train_loss:4.4} || training accuracy {train_acc:4.2%} || lr {current_lr}\"\n",
    "            )\n",
    "\n",
    "            loss_value = 0\n",
    "            matches = 0\n",
    "            \n",
    "    scheduler.step()\n",
    "\n",
    "    # val loop\n",
    "    with torch.no_grad():\n",
    "        print(\"Calculating validation results...\")\n",
    "        model.eval()\n",
    "        val_loss_items = []\n",
    "        val_acc_items = []\n",
    "        label_accuracy, total_label = [0]*num_classes, [0]*num_classes\n",
    "        for val_batch in val_loader:\n",
    "            inputs, labels = val_batch\n",
    "            inputs = inputs.to(device)\n",
    "            labels = labels.to(device)\n",
    "\n",
    "            outs = model(inputs)\n",
    "            preds = torch.argmax(outs, dim=-1)\n",
    "\n",
    "            loss_item = criterion(outs, labels).item()\n",
    "            acc_item = (labels == preds).sum().item()\n",
    "            val_loss_items.append(loss_item)\n",
    "            val_acc_items.append(acc_item)\n",
    "            \n",
    "            ## label별 accuracy\n",
    "            for i in range(len(labels)):\n",
    "                total_label[int(labels[i])] += 1\n",
    "                if labels[i] == preds[i]:\n",
    "                    label_accuracy[int(labels[i])] += 1\n",
    "            \n",
    "\n",
    "        val_loss = np.sum(val_loss_items) / len(val_loader)\n",
    "        val_acc = np.sum(val_acc_items) / len(val_df)\n",
    "        \n",
    "        # Callback1: validation accuracy가 향상될수록 모델을 저장합니다.\n",
    "        if val_loss < best_val_loss:\n",
    "            best_val_loss = val_loss\n",
    "        if val_acc > best_val_acc:\n",
    "            print(\"New best model for val accuracy! saving the model..\")\n",
    "            torch.save(model.state_dict(), f\"results/{name}/best.ckpt\")\n",
    "            best_val_acc = val_acc\n",
    "            counter = 0\n",
    "        else:\n",
    "            counter += 1\n",
    "        # Callback2: patience 횟수 동안 성능 향상이 없을 경우 학습을 종료시킵니다.\n",
    "        if counter > patience:\n",
    "            print(\"Early Stopping...\")\n",
    "            break\n",
    "        \n",
    "        ## 파이썬 배열 나눗셈 https://bearwoong.tistory.com/60\n",
    "        accuracy_by_label = np.array(label_accuracy)/np.array(total_label)\n",
    "        print(f\"accuracy by label: {accuracy_by_label}\")\n",
    "        \n",
    "        print(\n",
    "            f\"[Val] acc : {val_acc:4.2%}, loss: {val_loss:4.2} || \"\n",
    "            f\"best acc : {best_val_acc:4.2%}, best loss: {best_val_loss:4.2}\"\n",
    "        )\n",
    "        \n",
    "        print(\n",
    "            f\"nan: {accuracy_by_label[0]}\\n\"\n",
    "            f\"text: {accuracy_by_label[1]}\\n\"\n",
    "            f\"mark: {accuracy_by_label[2]}\\n\"\n",
    "        )\n",
    "\n",
    "    wandb.log({\n",
    "        \"train_loss\": train_loss,\n",
    "        \"train_accuracy\": train_acc,\n",
    "        \"valid_loss\": val_loss,\n",
    "        \"valid_accuracy\": val_acc,\n",
    "        \"best_loss\": best_val_loss,\n",
    "        \"best_accuracy\": best_val_acc,\n",
    "        \"nan\": accuracy_by_label[0],\n",
    "        \"text\": accuracy_by_label[1],\n",
    "        \"mark\": accuracy_by_label[2],\n",
    "    })"
   ]
  },
  {
   "cell_type": "code",
   "execution_count": 31,
   "metadata": {},
   "outputs": [],
   "source": [
    "class CustomTestDataset(Dataset):\n",
    "    def __init__(self, df, transform=None):\n",
    "        super().__init__()\n",
    "        self.df = df.reset_index()\n",
    "        self.image_id = self.df['품목일련번호']\n",
    "        self.transform = transform\n",
    "    \n",
    "    def __len__(self):\n",
    "        return len(self.df)\n",
    "\n",
    "    def __getitem__(self,idx):\n",
    "        image_id = self.image_id[idx]\n",
    "        image_path = f'/opt/ml/final-project-level3-cv-16/test_data/{image_id}'\n",
    "        image = Image.open(image_path)\n",
    "        if self.transform:\n",
    "            image = self.transform(image)\n",
    "        \n",
    "        return image"
   ]
  },
  {
   "cell_type": "code",
   "execution_count": 32,
   "metadata": {},
   "outputs": [],
   "source": [
    "test_batch_size = 1"
   ]
  },
  {
   "cell_type": "code",
   "execution_count": 33,
   "metadata": {},
   "outputs": [],
   "source": [
    "image_dir = './test_data'\n",
    "test_list = os.listdir(image_dir)\n",
    "test_list = sorted(test_list)"
   ]
  },
  {
   "cell_type": "code",
   "execution_count": 34,
   "metadata": {},
   "outputs": [],
   "source": [
    "test_df = pd.DataFrame(test_list)\n",
    "test_df.columns = ['품목일련번호']"
   ]
  },
  {
   "cell_type": "code",
   "execution_count": 35,
   "metadata": {},
   "outputs": [],
   "source": [
    "transform = transforms.Compose([\n",
    "    transforms.Resize((224,224)),\n",
    "    transforms.ToTensor(),\n",
    "    transforms.Normalize(\n",
    "        [0.485, 0.456, 0.406],\n",
    "        [0.229, 0.224, 0.225]\n",
    "    )\n",
    "])\n",
    "\n",
    "test_dataset = CustomTestDataset(test_df, transform=transform)"
   ]
  },
  {
   "cell_type": "code",
   "execution_count": 36,
   "metadata": {},
   "outputs": [
    {
     "data": {
      "text/plain": [
       "tensor([[[1.2043, 1.1700, 1.1358,  ..., 0.2967, 0.2282, 0.3138],\n",
       "         [1.2214, 1.1015, 1.1872,  ..., 0.1768, 0.1597, 0.2453],\n",
       "         [1.1358, 1.1187, 1.1358,  ..., 0.2282, 0.2796, 0.2796],\n",
       "         ...,\n",
       "         [0.6392, 0.6221, 0.5878,  ..., 0.6734, 0.5707, 0.6221],\n",
       "         [0.4508, 0.4508, 0.5022,  ..., 0.7077, 0.7933, 0.7591],\n",
       "         [0.5022, 0.5364, 0.5022,  ..., 0.6906, 0.7933, 0.7933]],\n",
       "\n",
       "        [[1.4307, 1.3782, 1.3431,  ..., 0.3452, 0.2402, 0.3803],\n",
       "         [1.4482, 1.3256, 1.4132,  ..., 0.2052, 0.1877, 0.2927],\n",
       "         [1.3431, 1.3081, 1.3431,  ..., 0.2927, 0.3277, 0.3277],\n",
       "         ...,\n",
       "         [0.7129, 0.6779, 0.6429,  ..., 0.7654, 0.6429, 0.6954],\n",
       "         [0.4853, 0.4853, 0.5378,  ..., 0.8179, 0.9230, 0.8880],\n",
       "         [0.5553, 0.5728, 0.5203,  ..., 0.8004, 0.9230, 0.9230]],\n",
       "\n",
       "        [[1.5245, 1.5071, 1.4548,  ..., 0.4439, 0.3219, 0.4439],\n",
       "         [1.5768, 1.4374, 1.5420,  ..., 0.3045, 0.2696, 0.3742],\n",
       "         [1.4722, 1.4374, 1.4722,  ..., 0.3742, 0.4091, 0.4091],\n",
       "         ...,\n",
       "         [0.8797, 0.8448, 0.7925,  ..., 0.8797, 0.7751, 0.8099],\n",
       "         [0.6182, 0.6356, 0.6879,  ..., 0.9668, 1.0714, 1.0365],\n",
       "         [0.7054, 0.7228, 0.6879,  ..., 0.9494, 1.0539, 1.0714]]])"
      ]
     },
     "execution_count": 36,
     "metadata": {},
     "output_type": "execute_result"
    }
   ],
   "source": [
    "image = next(iter(test_dataset))\n",
    "image"
   ]
  },
  {
   "cell_type": "code",
   "execution_count": 37,
   "metadata": {},
   "outputs": [],
   "source": [
    "test_loader = DataLoader(test_dataset, shuffle=False, batch_size=test_batch_size)"
   ]
  },
  {
   "cell_type": "code",
   "execution_count": 40,
   "metadata": {},
   "outputs": [
    {
     "data": {
      "text/plain": [
       "<All keys matched successfully>"
      ]
     },
     "execution_count": 40,
     "metadata": {},
     "output_type": "execute_result"
    }
   ],
   "source": [
    "model = timm.create_model('resnet18', pretrained=True, num_classes=num_classes)\n",
    "\n",
    "device = torch.device(\"cuda:0\" if torch.cuda.is_available() else \"cpu\") \n",
    "model.to(device) \n",
    "\n",
    "PATH = f\"./results/{name}/best.ckpt\"\n",
    "model.load_state_dict(torch.load(PATH, map_location=device))"
   ]
  },
  {
   "cell_type": "code",
   "execution_count": 41,
   "metadata": {},
   "outputs": [],
   "source": [
    "answer= ['nan', 'text', 'mark']"
   ]
  },
  {
   "cell_type": "code",
   "execution_count": 49,
   "metadata": {},
   "outputs": [
    {
     "name": "stdout",
     "output_type": "stream",
     "text": [
      "Calculating validation results...\n",
      "text\n",
      "text\n",
      "nan\n",
      "nan\n",
      "mark\n",
      "nan\n",
      "nan\n",
      "nan\n",
      "nan\n",
      "mark\n",
      "mark\n",
      "mark\n",
      "nan\n",
      "nan\n",
      "nan\n",
      "mark\n",
      "nan\n",
      "text\n",
      "nan\n",
      "nan\n",
      "nan\n",
      "mark\n",
      "nan\n",
      "nan\n",
      "nan\n",
      "nan\n",
      "text\n",
      "text\n",
      "text\n",
      "nan\n",
      "mark\n",
      "mark\n",
      "mark\n"
     ]
    }
   ],
   "source": [
    "# val loop\n",
    "with torch.no_grad():\n",
    "    print(\"Calculating validation results...\")\n",
    "    model.eval()\n",
    "    val_loss_items = []\n",
    "    val_acc_items = []\n",
    "    for val_batch in test_loader:\n",
    "        inputs = val_batch\n",
    "        inputs = inputs.to(device)\n",
    "\n",
    "        outs = model(inputs)\n",
    "        preds = torch.argmax(outs, dim=-1)\n",
    "        \n",
    "        print(answer[int(preds)])     "
   ]
  },
  {
   "cell_type": "code",
   "execution_count": null,
   "metadata": {},
   "outputs": [],
   "source": []
  }
 ],
 "metadata": {
  "interpreter": {
   "hash": "d4d1e4263499bec80672ea0156c357c1ee493ec2b1c70f0acce89fc37c4a6abe"
  },
  "kernelspec": {
   "display_name": "Python 3 (ipykernel)",
   "language": "python",
   "name": "python3"
  },
  "language_info": {
   "codemirror_mode": {
    "name": "ipython",
    "version": 3
   },
   "file_extension": ".py",
   "mimetype": "text/x-python",
   "name": "python",
   "nbconvert_exporter": "python",
   "pygments_lexer": "ipython3",
   "version": "3.8.5"
  }
 },
 "nbformat": 4,
 "nbformat_minor": 4
}

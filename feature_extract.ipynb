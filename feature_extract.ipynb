{
 "cells": [
  {
   "cell_type": "code",
   "execution_count": 52,
   "metadata": {},
   "outputs": [],
   "source": [
    "import torch\n",
    "from timm import create_model\n",
    "import numpy as np\n",
    "import cv2\n",
    "import os\n",
    "from tqdm import tqdm\n",
    "%matplotlib inline\n",
    "import matplotlib.pyplot as plt\n",
    "from numpy import linalg as LA"
   ]
  },
  {
   "cell_type": "code",
   "execution_count": 4,
   "metadata": {},
   "outputs": [],
   "source": [
    "model = create_model('efficientnet_b3',pretrained=True).float()"
   ]
  },
  {
   "cell_type": "code",
   "execution_count": 5,
   "metadata": {},
   "outputs": [],
   "source": [
    "dir = 'image_normalized'\n",
    "np_dir = 'image_features'"
   ]
  },
  {
   "cell_type": "code",
   "execution_count": 16,
   "metadata": {},
   "outputs": [
    {
     "name": "stderr",
     "output_type": "stream",
     "text": [
      "100%|██████████| 24358/24358 [1:53:56<00:00,  3.56it/s]  \n"
     ]
    }
   ],
   "source": [
    "ap = torch.nn.AdaptiveAvgPool2d((1,1))\n",
    "for f in tqdm(os.listdir(dir)):\n",
    "    img = cv2.imread(os.path.join(dir,f))\n",
    "    imgnorm = cv2.cvtColor(img,cv2.COLOR_BGR2RGB).astype(np.float32)/255.0\n",
    "    mean = np.array([0.485, 0.456, 0.406])\n",
    "    std = np.array([0.229, 0.224, 0.225])\n",
    "    img = (imgnorm-mean)/std\n",
    "    imgtensor = torch.tensor(np.transpose(img,(2,0,1))[np.newaxis,:,:,:]).float()\n",
    "    with torch.no_grad():\n",
    "        feature = model.forward_features(imgtensor)\n",
    "        feature = ap(feature)\n",
    "        featn = feature.detach().cpu().numpy()\n",
    "        featn = np.squeeze(featn)\n",
    "        np.save(os.path.join(np_dir,f.split('.')[0]+'.npy'),featn)"
   ]
  },
  {
   "cell_type": "code",
   "execution_count": 42,
   "metadata": {},
   "outputs": [],
   "source": [
    "image = cv2.imread('still_nox.png')"
   ]
  },
  {
   "cell_type": "code",
   "execution_count": 23,
   "metadata": {},
   "outputs": [],
   "source": [
    "def subimage(image, rect):\n",
    "    theta = rect[2]-90\n",
    "    center = (int(rect[0][0]),int(rect[0][1]))\n",
    "    height = int(rect[1][0])\n",
    "    width = int(rect[1][1])\n",
    "    theta *= 3.14159 / 180 # convert to rad\n",
    "    v_x = (np.cos(theta), np.sin(theta))\n",
    "    v_y = (-np.sin(theta), np.cos(theta))\n",
    "    s_x = center[0] - v_x[0] * ((width-1) / 2) - v_y[0] * ((height-1) / 2)\n",
    "    s_y = center[1] - v_x[1] * ((width-1) / 2) - v_y[1] * ((height-1) / 2)\n",
    "\n",
    "    mapping = np.array([[v_x[0],v_y[0], s_x],\n",
    "                        [v_x[1],v_y[1], s_y]])\n",
    "\n",
    "    return cv2.warpAffine(image,mapping,(width, height),flags=cv2.WARP_INVERSE_MAP,borderMode=cv2.BORDER_REPLICATE)"
   ]
  },
  {
   "cell_type": "code",
   "execution_count": 39,
   "metadata": {},
   "outputs": [],
   "source": [
    "imgray = cv2.cvtColor(image, cv2.COLOR_BGR2GRAY)\n",
    "ret, th = cv2.threshold(imgray, 1,255,cv2.THRESH_BINARY)\n",
    "contours, _ = cv2.findContours(th, cv2.RETR_EXTERNAL, cv2.CHAIN_APPROX_NONE)"
   ]
  },
  {
   "cell_type": "code",
   "execution_count": 40,
   "metadata": {},
   "outputs": [
    {
     "data": {
      "text/plain": [
       "2"
      ]
     },
     "execution_count": 40,
     "metadata": {},
     "output_type": "execute_result"
    }
   ],
   "source": [
    "len(contours)"
   ]
  },
  {
   "cell_type": "code",
   "execution_count": null,
   "metadata": {},
   "outputs": [],
   "source": []
  },
  {
   "cell_type": "code",
   "execution_count": 43,
   "metadata": {},
   "outputs": [
    {
     "data": {
      "text/plain": [
       "True"
      ]
     },
     "execution_count": 43,
     "metadata": {},
     "output_type": "execute_result"
    }
   ],
   "source": [
    "pills = []\n",
    "for cont in contours:\n",
    "    rect = cv2.minAreaRect(cont)\n",
    "    crop = subimage(image,rect)\n",
    "    if crop.shape[0] > crop.shape[1]:\n",
    "            crop = cv2.rotate(crop, cv2.ROTATE_90_CLOCKWISE)\n",
    "    crop = cv2.resize(crop,(256,int(256*crop.shape[0]/crop.shape[1])))\n",
    "    pills.append(crop)\n",
    "normalized = np.zeros((512,512,3),dtype=np.uint8)\n",
    "normalized[128-pills[0].shape[0]//2 : 128 +(pills[0].shape[0]-pills[0].shape[0]//2),128-pills[0].shape[1]//2 : 128 +(pills[0].shape[1]-pills[0].shape[1]//2)] = pills[0]\n",
    "normalized[384-pills[1].shape[0]//2 : 384 +(pills[1].shape[0]-pills[1].shape[0]//2),384-pills[1].shape[1]//2 : 384 +(pills[1].shape[1]-pills[1].shape[1]//2)] = pills[1]\n",
    "cv2.imwrite(os.path.join('stellnox_preprocess.png'),normalized)"
   ]
  },
  {
   "cell_type": "code",
   "execution_count": 46,
   "metadata": {},
   "outputs": [],
   "source": [
    "img = cv2.imread('stellnox_preprocess.png')\n",
    "imgnorm = cv2.cvtColor(img,cv2.COLOR_BGR2RGB).astype(np.float32)/255.0\n",
    "mean = np.array([0.485, 0.456, 0.406])\n",
    "std = np.array([0.229, 0.224, 0.225])\n",
    "img = (imgnorm-mean)/std\n",
    "imgtensor = torch.tensor(np.transpose(img,(2,0,1))[np.newaxis,:,:,:]).float()\n",
    "with torch.no_grad():\n",
    "    feature = model.forward_features(imgtensor)\n",
    "    feature = ap(feature)\n",
    "    featn = feature.detach().cpu().numpy()\n",
    "    nox_feat = np.squeeze(featn)"
   ]
  },
  {
   "cell_type": "code",
   "execution_count": 53,
   "metadata": {},
   "outputs": [
    {
     "name": "stderr",
     "output_type": "stream",
     "text": [
      "100%|██████████| 24358/24358 [00:07<00:00, 3096.60it/s]\n"
     ]
    }
   ],
   "source": [
    "l = []\n",
    "for feat in tqdm(os.listdir('image_features')):\n",
    "    feature = np.load(os.path.join('image_features',feat))\n",
    "    l.append((np.dot(nox_feat,feature)/(LA.norm(nox_feat)*LA.norm(feature)),feat.split('.')[0]))"
   ]
  },
  {
   "cell_type": "code",
   "execution_count": null,
   "metadata": {},
   "outputs": [],
   "source": [
    "l.sort(reverse= True)\n",
    "l[:100]"
   ]
  }
 ],
 "metadata": {
  "interpreter": {
   "hash": "d4d1e4263499bec80672ea0156c357c1ee493ec2b1c70f0acce89fc37c4a6abe"
  },
  "kernelspec": {
   "display_name": "Python 3.8.5 ('base')",
   "language": "python",
   "name": "python3"
  },
  "language_info": {
   "codemirror_mode": {
    "name": "ipython",
    "version": 3
   },
   "file_extension": ".py",
   "mimetype": "text/x-python",
   "name": "python",
   "nbconvert_exporter": "python",
   "pygments_lexer": "ipython3",
   "version": "3.8.5"
  },
  "orig_nbformat": 4
 },
 "nbformat": 4,
 "nbformat_minor": 2
}
